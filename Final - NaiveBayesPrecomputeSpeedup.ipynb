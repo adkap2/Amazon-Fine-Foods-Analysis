{
 "cells": [
  {
   "cell_type": "code",
   "execution_count": 1,
   "id": "ade47acf-2d29-4f81-b06d-36813412baab",
   "metadata": {},
   "outputs": [],
   "source": [
    "from IPython.core.interactiveshell import InteractiveShell\n",
    "InteractiveShell.ast_node_interactivity = \"all\"\n",
    "%config Completer.use_jedi = False\n",
    "import pandas as pd\n",
    "import numpy as np\n",
    "import string\n",
    "from IPython.display import clear_output\n",
    "import pickle\n",
    "import time"
   ]
  },
  {
   "cell_type": "code",
   "execution_count": 2,
   "id": "9712d49c-3a17-4523-9b64-0794896dba28",
   "metadata": {},
   "outputs": [],
   "source": [
    "#load precomputed word probabilities and preprocessed review dataset\n",
    "with open('probs.pickle', 'rb') as f:\n",
    "    probs_dict = pickle.load(f)\n",
    "with open('ppReviewsMIN.pickle', 'rb') as f:\n",
    "    data = pickle.load(f)"
   ]
  },
  {
   "cell_type": "code",
   "execution_count": 3,
   "id": "390b52ea-45a0-4417-bf05-69b6d7ecc58e",
   "metadata": {},
   "outputs": [],
   "source": [
    "#new naive bayes function that uses precomputed word probabilities\n",
    "def dp_get_total_probs(wordset, probs):\n",
    "    posprob = 1\n",
    "    negprob = 1\n",
    "    for word in wordset:\n",
    "        prob = probs[word]\n",
    "        posprob *= prob['pos']\n",
    "        negprob *= prob['neg']\n",
    "    return {\n",
    "        'pos': posprob,\n",
    "        'neg': negprob,\n",
    "        'pred': 1 if posprob > negprob else -1\n",
    "    }"
   ]
  },
  {
   "cell_type": "code",
   "execution_count": 4,
   "id": "498277fe-f64a-457f-a817-ee2f1cff7808",
   "metadata": {},
   "outputs": [],
   "source": [
    "#grab reviews with non-neutral sentiment as test data\n",
    "#note: because we don't have any unseen data, this test is technically invalid due to train-validation contamination\n",
    "non_neutral = data.loc[abs(data['Sentiment']) == 1]"
   ]
  },
  {
   "cell_type": "code",
   "execution_count": 6,
   "id": "102dd458-fdec-499b-a153-63e7443a2402",
   "metadata": {},
   "outputs": [
    {
     "name": "stdout",
     "output_type": "stream",
     "text": [
      "Prediction 100 done.\n"
     ]
    },
    {
     "data": {
      "text/plain": [
       "0.91"
      ]
     },
     "execution_count": 6,
     "metadata": {},
     "output_type": "execute_result"
    },
    {
     "name": "stdout",
     "output_type": "stream",
     "text": [
      "NB on 100 predictions using dynamic programming took 0.2257 seconds - 0.0023 seconds per prediction.\n"
     ]
    }
   ],
   "source": [
    "start = time.time()\n",
    "\n",
    "#sample test data and perform naive bayes prediction\n",
    "test = non_neutral.sample(100)\n",
    "results = []\n",
    "count = 0\n",
    "for index, row in test.iterrows():\n",
    "    review = row['CleanSet']\n",
    "    probs = dp_get_total_probs(review, probs_dict)\n",
    "    probs['tru'] = row['Sentiment']\n",
    "    results.append(probs)\n",
    "    count += 1\n",
    "    clear_output(wait=True)\n",
    "    print(f\"Prediction {count} done.\")\n",
    "correct = 0\n",
    "for attempt in results:\n",
    "    if attempt['tru'] == attempt['pred']:\n",
    "        correct += 1\n",
    "correct/len(results)\n",
    "\n",
    "#print elapsed time\n",
    "elapsed = time.time() - start\n",
    "print(f\"NB on {len(results)} predictions using dynamic programming took {elapsed:.4f} seconds - {elapsed/len(results):.4f} seconds per prediction.\")"
   ]
  },
  {
   "cell_type": "markdown",
   "id": "92f33591-80f0-47c7-9d98-b236ea24bc6b",
   "metadata": {},
   "source": [
    "# Comparison with old NB"
   ]
  },
  {
   "cell_type": "code",
   "execution_count": 14,
   "id": "dac4505c-1a99-4a00-a333-51869f81bfae",
   "metadata": {},
   "outputs": [],
   "source": [
    "def get_probs(word, pos, neg):\n",
    "    pres = sum(pos['CleanSet'].apply(lambda x: word in x))/len(pos)\n",
    "    nres = sum(neg['CleanSet'].apply(lambda x: word in x))/len(neg)\n",
    "    return {\n",
    "        'pos': pres,\n",
    "        'neg': nres\n",
    "    }\n",
    "\n",
    "def get_total_probs(wordset, pos, neg):\n",
    "    posprob = 1\n",
    "    negprob = 1\n",
    "    for word in wordset:\n",
    "        prob = get_probs(word, pos, neg)\n",
    "        posprob *= prob['pos']\n",
    "        negprob *= prob['neg']\n",
    "    return {\n",
    "        'pos': posprob,\n",
    "        'neg': negprob,\n",
    "        'pred': 1 if posprob > negprob else -1\n",
    "    }"
   ]
  },
  {
   "cell_type": "code",
   "execution_count": 17,
   "id": "ba502e48-e10a-4dd9-80db-bb385f635a8d",
   "metadata": {},
   "outputs": [],
   "source": [
    "pos = data.loc[data['Sentiment'] == 1]\n",
    "neg = data.loc[data['Sentiment'] == -1]"
   ]
  },
  {
   "cell_type": "code",
   "execution_count": 22,
   "id": "3a81c28b-dff4-4c1c-b860-d5f9937f6da3",
   "metadata": {},
   "outputs": [
    {
     "name": "stdout",
     "output_type": "stream",
     "text": [
      "Prediction 100 done.\n"
     ]
    },
    {
     "data": {
      "text/plain": [
       "0.76"
      ]
     },
     "execution_count": 22,
     "metadata": {},
     "output_type": "execute_result"
    },
    {
     "name": "stdout",
     "output_type": "stream",
     "text": [
      "NB on 100 predictions WITHOUT using dynamic programming took 754.9853 seconds - 7.5499 seconds per prediction.\n"
     ]
    }
   ],
   "source": [
    "start = time.time()\n",
    "\n",
    "test = data.sample(100)\n",
    "results = []\n",
    "count = 0\n",
    "for index, row in test.iterrows():\n",
    "    review = row['CleanSet']\n",
    "    probs = get_total_probs(review, pos, neg)\n",
    "    probs['tru'] = row['Sentiment']\n",
    "    results.append(probs)\n",
    "    count += 1\n",
    "    clear_output(wait=True)\n",
    "    print(f\"Prediction {count} done.\")\n",
    "correct = 0\n",
    "for attempt in results:\n",
    "    if attempt['tru'] == attempt['pred']:\n",
    "        correct += 1\n",
    "correct/len(results)\n",
    "\n",
    "#print elapsed time\n",
    "elapsed = time.time() - start\n",
    "print(f\"NB on {len(results)} predictions WITHOUT using dynamic programming took {elapsed:.4f} seconds - {elapsed/len(results):.4f} seconds per prediction.\")"
   ]
  }
 ],
 "metadata": {
  "kernelspec": {
   "display_name": "Python 3 (ipykernel)",
   "language": "python",
   "name": "python3"
  },
  "language_info": {
   "codemirror_mode": {
    "name": "ipython",
    "version": 3
   },
   "file_extension": ".py",
   "mimetype": "text/x-python",
   "name": "python",
   "nbconvert_exporter": "python",
   "pygments_lexer": "ipython3",
   "version": "3.10.4"
  }
 },
 "nbformat": 4,
 "nbformat_minor": 5
}
