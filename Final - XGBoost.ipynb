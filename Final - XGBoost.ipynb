{
 "cells": [
  {
   "cell_type": "code",
   "execution_count": 32,
   "id": "b9a0a1af-b563-442b-8277-8975872bcf73",
   "metadata": {},
   "outputs": [
    {
     "name": "stderr",
     "output_type": "stream",
     "text": [
      "[nltk_data] Downloading package stopwords to /root/nltk_data...\n",
      "[nltk_data]   Package stopwords is already up-to-date!\n"
     ]
    },
    {
     "data": {
      "text/plain": [
       "True"
      ]
     },
     "execution_count": 32,
     "metadata": {},
     "output_type": "execute_result"
    },
    {
     "name": "stderr",
     "output_type": "stream",
     "text": [
      "[nltk_data] Downloading package punkt to /root/nltk_data...\n",
      "[nltk_data]   Package punkt is already up-to-date!\n"
     ]
    },
    {
     "data": {
      "text/plain": [
       "True"
      ]
     },
     "execution_count": 32,
     "metadata": {},
     "output_type": "execute_result"
    }
   ],
   "source": [
    "import pandas as pd\n",
    "from IPython.core.interactiveshell import InteractiveShell\n",
    "InteractiveShell.ast_node_interactivity = \"all\"\n",
    "import nltk\n",
    "from nltk.corpus import stopwords\n",
    "from nltk.stem.porter import PorterStemmer\n",
    "nltk.download('stopwords')\n",
    "nltk.download('punkt')\n",
    "import string\n",
    "from ast import literal_eval\n",
    "import pickle\n",
    "\n",
    "from sklearn.feature_extraction.text import CountVectorizer\n",
    "from sklearn.model_selection import train_test_split\n",
    "from sklearn.metrics import accuracy_score\n",
    "from sklearn.metrics import roc_auc_score\n",
    "from sklearn.metrics import f1_score\n",
    "from sklearn.metrics import precision_score\n",
    "from sklearn.metrics import recall_score\n",
    "from sklearn.metrics import classification_report\n",
    "\n",
    "import xgboost as xgb\n",
    "import copy"
   ]
  },
  {
   "cell_type": "markdown",
   "id": "6e31b3e0-e2d6-4e49-98cb-98ad1a6e1eb0",
   "metadata": {},
   "source": [
    "# Load preprocessed data and grab relevant features"
   ]
  },
  {
   "cell_type": "code",
   "execution_count": 2,
   "id": "609cc7a8-658f-4bc8-8850-7b8445850c76",
   "metadata": {},
   "outputs": [
    {
     "data": {
      "text/html": [
       "<div>\n",
       "<style scoped>\n",
       "    .dataframe tbody tr th:only-of-type {\n",
       "        vertical-align: middle;\n",
       "    }\n",
       "\n",
       "    .dataframe tbody tr th {\n",
       "        vertical-align: top;\n",
       "    }\n",
       "\n",
       "    .dataframe thead th {\n",
       "        text-align: right;\n",
       "    }\n",
       "</style>\n",
       "<table border=\"1\" class=\"dataframe\">\n",
       "  <thead>\n",
       "    <tr style=\"text-align: right;\">\n",
       "      <th></th>\n",
       "      <th>Sentiment</th>\n",
       "      <th>CleanAll</th>\n",
       "    </tr>\n",
       "  </thead>\n",
       "  <tbody>\n",
       "    <tr>\n",
       "      <th>0</th>\n",
       "      <td>1</td>\n",
       "      <td>['good', 'qualiti', 'dog', 'food', 'bought', '...</td>\n",
       "    </tr>\n",
       "    <tr>\n",
       "      <th>1</th>\n",
       "      <td>-1</td>\n",
       "      <td>['advertis', 'product', 'arriv', 'label', 'jum...</td>\n",
       "    </tr>\n",
       "    <tr>\n",
       "      <th>2</th>\n",
       "      <td>1</td>\n",
       "      <td>['delight', 'say', 'confect', 'around', 'centu...</td>\n",
       "    </tr>\n",
       "    <tr>\n",
       "      <th>3</th>\n",
       "      <td>-1</td>\n",
       "      <td>['cough', 'medicin', 'look', 'secret', 'ingred...</td>\n",
       "    </tr>\n",
       "    <tr>\n",
       "      <th>4</th>\n",
       "      <td>1</td>\n",
       "      <td>['great', 'taffi', 'great', 'taffi', 'great', ...</td>\n",
       "    </tr>\n",
       "  </tbody>\n",
       "</table>\n",
       "</div>"
      ],
      "text/plain": [
       "   Sentiment                                           CleanAll\n",
       "0          1  ['good', 'qualiti', 'dog', 'food', 'bought', '...\n",
       "1         -1  ['advertis', 'product', 'arriv', 'label', 'jum...\n",
       "2          1  ['delight', 'say', 'confect', 'around', 'centu...\n",
       "3         -1  ['cough', 'medicin', 'look', 'secret', 'ingred...\n",
       "4          1  ['great', 'taffi', 'great', 'taffi', 'great', ..."
      ]
     },
     "execution_count": 2,
     "metadata": {},
     "output_type": "execute_result"
    }
   ],
   "source": [
    "data = pd.read_csv('preproc_Reviews.csv')\n",
    "ppdata = data.loc[:,['Sentiment', 'CleanAll']]\n",
    "ppdata.head()"
   ]
  },
  {
   "cell_type": "markdown",
   "id": "8b988d31-0a49-471a-80fc-163f3f7ff1e7",
   "metadata": {},
   "source": [
    "# Convert sentiment from [-1,1] to XGBoost required [0,1]"
   ]
  },
  {
   "cell_type": "code",
   "execution_count": 3,
   "id": "e67e2a61-a23c-453b-97d4-42f7c48ff4fc",
   "metadata": {},
   "outputs": [
    {
     "data": {
      "text/html": [
       "<div>\n",
       "<style scoped>\n",
       "    .dataframe tbody tr th:only-of-type {\n",
       "        vertical-align: middle;\n",
       "    }\n",
       "\n",
       "    .dataframe tbody tr th {\n",
       "        vertical-align: top;\n",
       "    }\n",
       "\n",
       "    .dataframe thead th {\n",
       "        text-align: right;\n",
       "    }\n",
       "</style>\n",
       "<table border=\"1\" class=\"dataframe\">\n",
       "  <thead>\n",
       "    <tr style=\"text-align: right;\">\n",
       "      <th></th>\n",
       "      <th>Sentiment</th>\n",
       "      <th>CleanAll</th>\n",
       "    </tr>\n",
       "  </thead>\n",
       "  <tbody>\n",
       "    <tr>\n",
       "      <th>0</th>\n",
       "      <td>1</td>\n",
       "      <td>['good', 'qualiti', 'dog', 'food', 'bought', '...</td>\n",
       "    </tr>\n",
       "    <tr>\n",
       "      <th>1</th>\n",
       "      <td>0</td>\n",
       "      <td>['advertis', 'product', 'arriv', 'label', 'jum...</td>\n",
       "    </tr>\n",
       "    <tr>\n",
       "      <th>2</th>\n",
       "      <td>1</td>\n",
       "      <td>['delight', 'say', 'confect', 'around', 'centu...</td>\n",
       "    </tr>\n",
       "    <tr>\n",
       "      <th>3</th>\n",
       "      <td>0</td>\n",
       "      <td>['cough', 'medicin', 'look', 'secret', 'ingred...</td>\n",
       "    </tr>\n",
       "    <tr>\n",
       "      <th>4</th>\n",
       "      <td>1</td>\n",
       "      <td>['great', 'taffi', 'great', 'taffi', 'great', ...</td>\n",
       "    </tr>\n",
       "  </tbody>\n",
       "</table>\n",
       "</div>"
      ],
      "text/plain": [
       "   Sentiment                                           CleanAll\n",
       "0          1  ['good', 'qualiti', 'dog', 'food', 'bought', '...\n",
       "1          0  ['advertis', 'product', 'arriv', 'label', 'jum...\n",
       "2          1  ['delight', 'say', 'confect', 'around', 'centu...\n",
       "3          0  ['cough', 'medicin', 'look', 'secret', 'ingred...\n",
       "4          1  ['great', 'taffi', 'great', 'taffi', 'great', ..."
      ]
     },
     "execution_count": 3,
     "metadata": {},
     "output_type": "execute_result"
    }
   ],
   "source": [
    "ppdata['Sentiment'] = ppdata['Sentiment'].apply(lambda x: 0 if x == -1 else 1)\n",
    "ppdata.head()"
   ]
  },
  {
   "cell_type": "markdown",
   "id": "0fe299dd-7478-49eb-a9cf-1dd264e539cb",
   "metadata": {},
   "source": [
    "# Split data into train and test sets"
   ]
  },
  {
   "cell_type": "code",
   "execution_count": 4,
   "id": "d48e45e9-a12a-43bd-b23c-0a0da892593c",
   "metadata": {},
   "outputs": [],
   "source": [
    "X_train, X_test, y_train, y_test = train_test_split(ppdata['CleanAll'], ppdata['Sentiment'], test_size = 0.10)"
   ]
  },
  {
   "cell_type": "markdown",
   "id": "0f84ee56-a08d-4e77-8a49-e08b345b45c8",
   "metadata": {},
   "source": [
    "# Run data through sklearn countvectorizer"
   ]
  },
  {
   "cell_type": "code",
   "execution_count": 5,
   "id": "9c9f48ff-4380-445f-95bc-e648a9a49f72",
   "metadata": {},
   "outputs": [
    {
     "data": {
      "text/plain": [
       "CountVectorizer(binary=True)"
      ]
     },
     "execution_count": 5,
     "metadata": {},
     "output_type": "execute_result"
    }
   ],
   "source": [
    "cv = CountVectorizer(binary=True)\n",
    "cv.fit(ppdata['CleanAll'])\n",
    "X_train = cv.transform(X_train)\n",
    "X_test = cv.transform(X_test)"
   ]
  },
  {
   "cell_type": "code",
   "execution_count": 6,
   "id": "98c6b9af-1f5f-42c3-a6ca-f128e57e1485",
   "metadata": {},
   "outputs": [],
   "source": [
    "xgb_train = xgb.DMatrix(X_train, y_train)\n",
    "xgb_test = xgb.DMatrix(X_test, y_test)"
   ]
  },
  {
   "cell_type": "markdown",
   "id": "df216e22-cd19-4b8b-88cf-7e145dc5e797",
   "metadata": {},
   "source": [
    "# Set params and train xgboost"
   ]
  },
  {
   "cell_type": "code",
   "execution_count": 7,
   "id": "7d62dbf6-d3a0-4ed4-8370-9c3406b50e3f",
   "metadata": {},
   "outputs": [],
   "source": [
    "param = {}"
   ]
  },
  {
   "cell_type": "code",
   "execution_count": 8,
   "id": "14ceaa75-2069-4526-84dd-02ee0f46b13d",
   "metadata": {},
   "outputs": [],
   "source": [
    "xgb_model = xgb.train(param, xgb_train)"
   ]
  },
  {
   "cell_type": "code",
   "execution_count": null,
   "id": "9ea7097f-824d-4b33-95d7-178d6ffc1f66",
   "metadata": {},
   "outputs": [],
   "source": [
    "with open('xgb_default.pickle', 'wb') as f:\n",
    "    pickle.dump(xgb_model, f)"
   ]
  },
  {
   "cell_type": "code",
   "execution_count": null,
   "id": "474e83f8-6a73-4011-80e8-20f0b69e9459",
   "metadata": {},
   "outputs": [],
   "source": [
    "with open('xgb_default.pickle', 'rb') as f:\n",
    "    xgb_model = pickle.load(f)"
   ]
  },
  {
   "cell_type": "code",
   "execution_count": 9,
   "id": "fb1512d1-d37e-41af-8490-1f8189d5c2ed",
   "metadata": {},
   "outputs": [],
   "source": [
    "y_pred = xgb_model.predict(xgb_test)\n",
    "grid_list = [copy.deepcopy(y_pred) for _ in range(11)]"
   ]
  },
  {
   "cell_type": "code",
   "execution_count": 10,
   "id": "4d0aa4a1-d036-43ba-9ab7-9760f65ccc9c",
   "metadata": {},
   "outputs": [],
   "source": [
    "for index, preds in enumerate(grid_list):\n",
    "    threshold = index * 0.1\n",
    "    for pred_index, number in enumerate(y_pred):\n",
    "        grid_list[index][pred_index] = 0 if number < threshold else 1"
   ]
  },
  {
   "cell_type": "code",
   "execution_count": 28,
   "id": "12d95d6f-4908-402e-935e-4c5eb7445b2e",
   "metadata": {},
   "outputs": [
    {
     "name": "stdout",
     "output_type": "stream",
     "text": [
      "========================== Threshold: 0.0 ===========================\n",
      "Accuracy: 0.857\n",
      "Precision: 0.857\n",
      "Recall: 1.0\n",
      "F1: 0.923\n",
      "========================== Threshold: 0.1 ===========================\n",
      "Accuracy: 0.858\n",
      "Precision: 0.858\n",
      "Recall: 1.0\n",
      "F1: 0.924\n",
      "========================== Threshold: 0.2 ===========================\n",
      "Accuracy: 0.861\n",
      "Precision: 0.861\n",
      "Recall: 1.0\n",
      "F1: 0.925\n",
      "========================== Threshold: 0.3 ===========================\n",
      "Accuracy: 0.866\n",
      "Precision: 0.865\n",
      "Recall: 1.0\n",
      "F1: 0.927\n",
      "========================== Threshold: 0.4 ===========================\n",
      "Accuracy: 0.874\n",
      "Precision: 0.872\n",
      "Recall: 0.999\n",
      "F1: 0.931\n",
      "========================== Threshold: 0.5 ===========================\n",
      "Accuracy: 0.885\n",
      "Precision: 0.887\n",
      "Recall: 0.993\n",
      "F1: 0.937\n",
      "========================== Threshold: 0.6 ===========================\n",
      "Accuracy: 0.892\n",
      "Precision: 0.899\n",
      "Recall: 0.984\n",
      "F1: 0.94\n",
      "========================== Threshold: 0.7 ===========================\n",
      "Accuracy: 0.892\n",
      "Precision: 0.914\n",
      "Recall: 0.964\n",
      "F1: 0.938\n",
      "========================== Threshold: 0.8 ===========================\n",
      "Accuracy: 0.801\n",
      "Precision: 0.956\n",
      "Recall: 0.804\n",
      "F1: 0.873\n",
      "========================== Threshold: 0.9 ===========================\n",
      "Accuracy: 0.529\n",
      "Precision: 0.979\n",
      "Recall: 0.46\n",
      "F1: 0.626\n",
      "========================== Threshold: 1.0 ===========================\n",
      "Accuracy: 0.145\n",
      "Precision: 1.0\n",
      "Recall: 0.002\n",
      "F1: 0.003\n"
     ]
    }
   ],
   "source": [
    "for index, preds in enumerate(grid_list):\n",
    "    print(f'========================== Threshold: {round(index * 0.1, 2)} ===========================')\n",
    "    print(f'Accuracy: {round(accuracy_score(y_test, preds), 3)}')\n",
    "    print(f'Precision: {round(precision_score(y_test, preds), 3)}')\n",
    "    print(f'Recall: {round(recall_score(y_test, preds), 3)}')\n",
    "    print(f'F1: {round(f1_score(y_test, preds), 3)}')"
   ]
  },
  {
   "cell_type": "code",
   "execution_count": 35,
   "id": "a155342e-85fd-41e9-880f-6724d2933691",
   "metadata": {},
   "outputs": [
    {
     "name": "stdout",
     "output_type": "stream",
     "text": [
      "              precision    recall  f1-score   support\n",
      "\n",
      "           0       0.78      0.34      0.48      8159\n",
      "           1       0.90      0.98      0.94     48687\n",
      "\n",
      "    accuracy                           0.89     56846\n",
      "   macro avg       0.84      0.66      0.71     56846\n",
      "weighted avg       0.88      0.89      0.87     56846\n",
      "\n"
     ]
    }
   ],
   "source": [
    "print(classification_report(y_test, grid_list[6]))"
   ]
  }
 ],
 "metadata": {
  "kernelspec": {
   "display_name": "Python 3 (ipykernel)",
   "language": "python",
   "name": "python3"
  },
  "language_info": {
   "codemirror_mode": {
    "name": "ipython",
    "version": 3
   },
   "file_extension": ".py",
   "mimetype": "text/x-python",
   "name": "python",
   "nbconvert_exporter": "python",
   "pygments_lexer": "ipython3",
   "version": "3.10.4"
  }
 },
 "nbformat": 4,
 "nbformat_minor": 5
}
