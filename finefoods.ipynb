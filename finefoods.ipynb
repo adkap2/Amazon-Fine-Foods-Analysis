{
 "cells": [
  {
   "cell_type": "markdown",
   "id": "71b91edd-b4ee-4c4d-87cf-56f06f50ab93",
   "metadata": {},
   "source": [
    "***William Su*** <br>\n",
    "CMPE256 - S22<br>\n",
    "Final Project test <br>\n",
    "Amazon food reviews sentiment analysis <br>"
   ]
  },
  {
   "cell_type": "code",
   "execution_count": 2,
   "id": "433efedb-87e2-41d6-a7b7-21ad8191b8c8",
   "metadata": {},
   "outputs": [
    {
     "name": "stderr",
     "output_type": "stream",
     "text": [
      "[nltk_data] Downloading package stopwords to /Users/adam/nltk_data...\n",
      "[nltk_data]   Package stopwords is already up-to-date!\n",
      "[nltk_data] Downloading package punkt to /Users/adam/nltk_data...\n",
      "[nltk_data]   Package punkt is already up-to-date!\n"
     ]
    }
   ],
   "source": [
    "import pandas as pd\n",
    "import numpy as np\n",
    "import nltk\n",
    "from nltk.corpus import stopwords\n",
    "from nltk.stem.porter import PorterStemmer\n",
    "import string\n",
    "nltk.download('stopwords')\n",
    "nltk.download('punkt')\n",
    "from IPython.core.interactiveshell import InteractiveShell\n",
    "InteractiveShell.ast_node_interactivity = \"all\"\n",
    "from IPython.display import clear_output"
   ]
  },
  {
   "cell_type": "markdown",
   "id": "b9546f2f-276b-4913-92eb-aaf472c56ba9",
   "metadata": {},
   "source": [
    "# **Data prep**"
   ]
  },
  {
   "cell_type": "code",
   "execution_count": 3,
   "id": "635d6390-e06a-4133-8599-cbf604e9e096",
   "metadata": {
    "tags": []
   },
   "outputs": [
    {
     "data": {
      "text/html": [
       "<div>\n",
       "<style scoped>\n",
       "    .dataframe tbody tr th:only-of-type {\n",
       "        vertical-align: middle;\n",
       "    }\n",
       "\n",
       "    .dataframe tbody tr th {\n",
       "        vertical-align: top;\n",
       "    }\n",
       "\n",
       "    .dataframe thead th {\n",
       "        text-align: right;\n",
       "    }\n",
       "</style>\n",
       "<table border=\"1\" class=\"dataframe\">\n",
       "  <thead>\n",
       "    <tr style=\"text-align: right;\">\n",
       "      <th></th>\n",
       "      <th>Id</th>\n",
       "      <th>ProductId</th>\n",
       "      <th>UserId</th>\n",
       "      <th>ProfileName</th>\n",
       "      <th>HelpfulnessNumerator</th>\n",
       "      <th>HelpfulnessDenominator</th>\n",
       "      <th>Score</th>\n",
       "      <th>Time</th>\n",
       "      <th>Summary</th>\n",
       "      <th>Text</th>\n",
       "    </tr>\n",
       "  </thead>\n",
       "  <tbody>\n",
       "    <tr>\n",
       "      <th>0</th>\n",
       "      <td>1</td>\n",
       "      <td>B001E4KFG0</td>\n",
       "      <td>A3SGXH7AUHU8GW</td>\n",
       "      <td>delmartian</td>\n",
       "      <td>1</td>\n",
       "      <td>1</td>\n",
       "      <td>5</td>\n",
       "      <td>1303862400</td>\n",
       "      <td>Good Quality Dog Food</td>\n",
       "      <td>I have bought several of the Vitality canned d...</td>\n",
       "    </tr>\n",
       "    <tr>\n",
       "      <th>1</th>\n",
       "      <td>2</td>\n",
       "      <td>B00813GRG4</td>\n",
       "      <td>A1D87F6ZCVE5NK</td>\n",
       "      <td>dll pa</td>\n",
       "      <td>0</td>\n",
       "      <td>0</td>\n",
       "      <td>1</td>\n",
       "      <td>1346976000</td>\n",
       "      <td>Not as Advertised</td>\n",
       "      <td>Product arrived labeled as Jumbo Salted Peanut...</td>\n",
       "    </tr>\n",
       "    <tr>\n",
       "      <th>2</th>\n",
       "      <td>3</td>\n",
       "      <td>B000LQOCH0</td>\n",
       "      <td>ABXLMWJIXXAIN</td>\n",
       "      <td>Natalia Corres \"Natalia Corres\"</td>\n",
       "      <td>1</td>\n",
       "      <td>1</td>\n",
       "      <td>4</td>\n",
       "      <td>1219017600</td>\n",
       "      <td>\"Delight\" says it all</td>\n",
       "      <td>This is a confection that has been around a fe...</td>\n",
       "    </tr>\n",
       "    <tr>\n",
       "      <th>3</th>\n",
       "      <td>4</td>\n",
       "      <td>B000UA0QIQ</td>\n",
       "      <td>A395BORC6FGVXV</td>\n",
       "      <td>Karl</td>\n",
       "      <td>3</td>\n",
       "      <td>3</td>\n",
       "      <td>2</td>\n",
       "      <td>1307923200</td>\n",
       "      <td>Cough Medicine</td>\n",
       "      <td>If you are looking for the secret ingredient i...</td>\n",
       "    </tr>\n",
       "    <tr>\n",
       "      <th>4</th>\n",
       "      <td>5</td>\n",
       "      <td>B006K2ZZ7K</td>\n",
       "      <td>A1UQRSCLF8GW1T</td>\n",
       "      <td>Michael D. Bigham \"M. Wassir\"</td>\n",
       "      <td>0</td>\n",
       "      <td>0</td>\n",
       "      <td>5</td>\n",
       "      <td>1350777600</td>\n",
       "      <td>Great taffy</td>\n",
       "      <td>Great taffy at a great price.  There was a wid...</td>\n",
       "    </tr>\n",
       "  </tbody>\n",
       "</table>\n",
       "</div>"
      ],
      "text/plain": [
       "   Id   ProductId          UserId                      ProfileName  \\\n",
       "0   1  B001E4KFG0  A3SGXH7AUHU8GW                       delmartian   \n",
       "1   2  B00813GRG4  A1D87F6ZCVE5NK                           dll pa   \n",
       "2   3  B000LQOCH0   ABXLMWJIXXAIN  Natalia Corres \"Natalia Corres\"   \n",
       "3   4  B000UA0QIQ  A395BORC6FGVXV                             Karl   \n",
       "4   5  B006K2ZZ7K  A1UQRSCLF8GW1T    Michael D. Bigham \"M. Wassir\"   \n",
       "\n",
       "   HelpfulnessNumerator  HelpfulnessDenominator  Score        Time  \\\n",
       "0                     1                       1      5  1303862400   \n",
       "1                     0                       0      1  1346976000   \n",
       "2                     1                       1      4  1219017600   \n",
       "3                     3                       3      2  1307923200   \n",
       "4                     0                       0      5  1350777600   \n",
       "\n",
       "                 Summary                                               Text  \n",
       "0  Good Quality Dog Food  I have bought several of the Vitality canned d...  \n",
       "1      Not as Advertised  Product arrived labeled as Jumbo Salted Peanut...  \n",
       "2  \"Delight\" says it all  This is a confection that has been around a fe...  \n",
       "3         Cough Medicine  If you are looking for the secret ingredient i...  \n",
       "4            Great taffy  Great taffy at a great price.  There was a wid...  "
      ]
     },
     "execution_count": 3,
     "metadata": {},
     "output_type": "execute_result"
    }
   ],
   "source": [
    "#data = pd.read_csv('finefoods.txt', sep='\\t', header=None)\n",
    "# Convert to csv file\n",
    "# Open piclle file\n",
    "import pickle\n",
    "file = \"vocab.pickle\"\n",
    "file = \"probs.pickle\"\n",
    "file = \"ppReviewsMIN.pickle\"\n",
    "file = \"ppReviewsFULL.pickle\"\n",
    "\n",
    "\n",
    "\n",
    "# # objects = []\n",
    "# # with (open(file, \"rb\")) as openfile:\n",
    "# #     while True:\n",
    "# #         try:\n",
    "# #             objects.append(pickle.load(openfile))\n",
    "# #             #print(objects)\n",
    "# #             #print(\"This is the object: \", objects[0])\n",
    "# #         except EOFError:\n",
    "# #             break\n",
    "# data = []\n",
    "# with open(file, 'rb') as f:\n",
    "#     try:\n",
    "#         data = pickle.load(f)\n",
    "#     except:\n",
    "#         print(\"Error\")\n",
    "\n",
    "data = pd.read_csv('data/Reviews.csv')\n",
    "\n",
    "# Convert pickle to panda dataframe\n",
    "#data = pd.read_csv('Reviews.csv')\n",
    "data.head()"
   ]
  },
  {
   "cell_type": "code",
   "execution_count": 4,
   "id": "76955872",
   "metadata": {},
   "outputs": [
    {
     "name": "stdout",
     "output_type": "stream",
     "text": [
      "            Id   ProductId          UserId                      ProfileName  \\\n",
      "0            1  B001E4KFG0  A3SGXH7AUHU8GW                       delmartian   \n",
      "1            2  B00813GRG4  A1D87F6ZCVE5NK                           dll pa   \n",
      "2            3  B000LQOCH0   ABXLMWJIXXAIN  Natalia Corres \"Natalia Corres\"   \n",
      "3            4  B000UA0QIQ  A395BORC6FGVXV                             Karl   \n",
      "4            5  B006K2ZZ7K  A1UQRSCLF8GW1T    Michael D. Bigham \"M. Wassir\"   \n",
      "...        ...         ...             ...                              ...   \n",
      "568449  568450  B001EO7N10  A28KG5XORO54AY                 Lettie D. Carter   \n",
      "568450  568451  B003S1WTCU  A3I8AFVPEE8KI5                        R. Sawyer   \n",
      "568451  568452  B004I613EE  A121AA1GQV751Z                    pksd \"pk_007\"   \n",
      "568452  568453  B004I613EE   A3IBEVCTXKNOH          Kathy A. Welch \"katwel\"   \n",
      "568453  568454  B001LR2CU2  A3LGQPJCZVL9UC                         srfell17   \n",
      "\n",
      "        HelpfulnessNumerator  HelpfulnessDenominator  Score        Time  \\\n",
      "0                          1                       1      5  1303862400   \n",
      "1                          0                       0      1  1346976000   \n",
      "2                          1                       1      4  1219017600   \n",
      "3                          3                       3      2  1307923200   \n",
      "4                          0                       0      5  1350777600   \n",
      "...                      ...                     ...    ...         ...   \n",
      "568449                     0                       0      5  1299628800   \n",
      "568450                     0                       0      2  1331251200   \n",
      "568451                     2                       2      5  1329782400   \n",
      "568452                     1                       1      5  1331596800   \n",
      "568453                     0                       0      5  1338422400   \n",
      "\n",
      "                                   Summary  \\\n",
      "0                    Good Quality Dog Food   \n",
      "1                        Not as Advertised   \n",
      "2                    \"Delight\" says it all   \n",
      "3                           Cough Medicine   \n",
      "4                              Great taffy   \n",
      "...                                    ...   \n",
      "568449                 Will not do without   \n",
      "568450                        disappointed   \n",
      "568451            Perfect for our maltipoo   \n",
      "568452  Favorite Training and reward treat   \n",
      "568453                         Great Honey   \n",
      "\n",
      "                                                     Text  \n",
      "0       I have bought several of the Vitality canned d...  \n",
      "1       Product arrived labeled as Jumbo Salted Peanut...  \n",
      "2       This is a confection that has been around a fe...  \n",
      "3       If you are looking for the secret ingredient i...  \n",
      "4       Great taffy at a great price.  There was a wid...  \n",
      "...                                                   ...  \n",
      "568449  Great for sesame chicken..this is a good if no...  \n",
      "568450  I'm disappointed with the flavor. The chocolat...  \n",
      "568451  These stars are small, so you can give 10-15 o...  \n",
      "568452  These are the BEST treats for training and rew...  \n",
      "568453  I am very satisfied ,product is as advertised,...  \n",
      "\n",
      "[568454 rows x 10 columns]\n"
     ]
    }
   ],
   "source": [
    "print(data)"
   ]
  },
  {
   "cell_type": "markdown",
   "id": "9a64695b-cc08-4374-93b5-15e6e11701a0",
   "metadata": {},
   "source": [
    "***Drop unneeded columns***"
   ]
  },
  {
   "cell_type": "code",
   "execution_count": 5,
   "id": "626fd9b8-03a0-42af-b45f-5d6d7022af65",
   "metadata": {},
   "outputs": [
    {
     "data": {
      "text/html": [
       "<div>\n",
       "<style scoped>\n",
       "    .dataframe tbody tr th:only-of-type {\n",
       "        vertical-align: middle;\n",
       "    }\n",
       "\n",
       "    .dataframe tbody tr th {\n",
       "        vertical-align: top;\n",
       "    }\n",
       "\n",
       "    .dataframe thead th {\n",
       "        text-align: right;\n",
       "    }\n",
       "</style>\n",
       "<table border=\"1\" class=\"dataframe\">\n",
       "  <thead>\n",
       "    <tr style=\"text-align: right;\">\n",
       "      <th></th>\n",
       "      <th>Score</th>\n",
       "      <th>Summary</th>\n",
       "      <th>Text</th>\n",
       "    </tr>\n",
       "  </thead>\n",
       "  <tbody>\n",
       "    <tr>\n",
       "      <th>0</th>\n",
       "      <td>5</td>\n",
       "      <td>Good Quality Dog Food</td>\n",
       "      <td>I have bought several of the Vitality canned d...</td>\n",
       "    </tr>\n",
       "    <tr>\n",
       "      <th>1</th>\n",
       "      <td>1</td>\n",
       "      <td>Not as Advertised</td>\n",
       "      <td>Product arrived labeled as Jumbo Salted Peanut...</td>\n",
       "    </tr>\n",
       "    <tr>\n",
       "      <th>2</th>\n",
       "      <td>4</td>\n",
       "      <td>\"Delight\" says it all</td>\n",
       "      <td>This is a confection that has been around a fe...</td>\n",
       "    </tr>\n",
       "    <tr>\n",
       "      <th>3</th>\n",
       "      <td>2</td>\n",
       "      <td>Cough Medicine</td>\n",
       "      <td>If you are looking for the secret ingredient i...</td>\n",
       "    </tr>\n",
       "    <tr>\n",
       "      <th>4</th>\n",
       "      <td>5</td>\n",
       "      <td>Great taffy</td>\n",
       "      <td>Great taffy at a great price.  There was a wid...</td>\n",
       "    </tr>\n",
       "  </tbody>\n",
       "</table>\n",
       "</div>"
      ],
      "text/plain": [
       "   Score                Summary  \\\n",
       "0      5  Good Quality Dog Food   \n",
       "1      1      Not as Advertised   \n",
       "2      4  \"Delight\" says it all   \n",
       "3      2         Cough Medicine   \n",
       "4      5            Great taffy   \n",
       "\n",
       "                                                Text  \n",
       "0  I have bought several of the Vitality canned d...  \n",
       "1  Product arrived labeled as Jumbo Salted Peanut...  \n",
       "2  This is a confection that has been around a fe...  \n",
       "3  If you are looking for the secret ingredient i...  \n",
       "4  Great taffy at a great price.  There was a wid...  "
      ]
     },
     "execution_count": 5,
     "metadata": {},
     "output_type": "execute_result"
    }
   ],
   "source": [
    "data = data.loc[:, [col in ['Score', 'Summary', 'Text'] for col in data.columns]]\n",
    "data.head()"
   ]
  },
  {
   "cell_type": "markdown",
   "id": "a26bc315-15ac-4ce9-b3b2-346e5d4a95ee",
   "metadata": {},
   "source": [
    "***Combine Summary and Text features***"
   ]
  },
  {
   "cell_type": "code",
   "execution_count": 6,
   "id": "99f1b5be-506b-4c1b-8a5a-06855b84615d",
   "metadata": {},
   "outputs": [
    {
     "data": {
      "text/html": [
       "<div>\n",
       "<style scoped>\n",
       "    .dataframe tbody tr th:only-of-type {\n",
       "        vertical-align: middle;\n",
       "    }\n",
       "\n",
       "    .dataframe tbody tr th {\n",
       "        vertical-align: top;\n",
       "    }\n",
       "\n",
       "    .dataframe thead th {\n",
       "        text-align: right;\n",
       "    }\n",
       "</style>\n",
       "<table border=\"1\" class=\"dataframe\">\n",
       "  <thead>\n",
       "    <tr style=\"text-align: right;\">\n",
       "      <th></th>\n",
       "      <th>Score</th>\n",
       "      <th>Text</th>\n",
       "    </tr>\n",
       "  </thead>\n",
       "  <tbody>\n",
       "    <tr>\n",
       "      <th>0</th>\n",
       "      <td>5</td>\n",
       "      <td>Good Quality Dog Food I have bought several of...</td>\n",
       "    </tr>\n",
       "    <tr>\n",
       "      <th>1</th>\n",
       "      <td>1</td>\n",
       "      <td>Not as Advertised Product arrived labeled as J...</td>\n",
       "    </tr>\n",
       "    <tr>\n",
       "      <th>2</th>\n",
       "      <td>4</td>\n",
       "      <td>\"Delight\" says it all This is a confection tha...</td>\n",
       "    </tr>\n",
       "    <tr>\n",
       "      <th>3</th>\n",
       "      <td>2</td>\n",
       "      <td>Cough Medicine If you are looking for the secr...</td>\n",
       "    </tr>\n",
       "    <tr>\n",
       "      <th>4</th>\n",
       "      <td>5</td>\n",
       "      <td>Great taffy Great taffy at a great price.  The...</td>\n",
       "    </tr>\n",
       "    <tr>\n",
       "      <th>...</th>\n",
       "      <td>...</td>\n",
       "      <td>...</td>\n",
       "    </tr>\n",
       "    <tr>\n",
       "      <th>568449</th>\n",
       "      <td>5</td>\n",
       "      <td>Will not do without Great for sesame chicken.....</td>\n",
       "    </tr>\n",
       "    <tr>\n",
       "      <th>568450</th>\n",
       "      <td>2</td>\n",
       "      <td>disappointed I'm disappointed with the flavor....</td>\n",
       "    </tr>\n",
       "    <tr>\n",
       "      <th>568451</th>\n",
       "      <td>5</td>\n",
       "      <td>Perfect for our maltipoo These stars are small...</td>\n",
       "    </tr>\n",
       "    <tr>\n",
       "      <th>568452</th>\n",
       "      <td>5</td>\n",
       "      <td>Favorite Training and reward treat These are t...</td>\n",
       "    </tr>\n",
       "    <tr>\n",
       "      <th>568453</th>\n",
       "      <td>5</td>\n",
       "      <td>Great Honey I am very satisfied ,product is as...</td>\n",
       "    </tr>\n",
       "  </tbody>\n",
       "</table>\n",
       "<p>568454 rows × 2 columns</p>\n",
       "</div>"
      ],
      "text/plain": [
       "        Score                                               Text\n",
       "0           5  Good Quality Dog Food I have bought several of...\n",
       "1           1  Not as Advertised Product arrived labeled as J...\n",
       "2           4  \"Delight\" says it all This is a confection tha...\n",
       "3           2  Cough Medicine If you are looking for the secr...\n",
       "4           5  Great taffy Great taffy at a great price.  The...\n",
       "...       ...                                                ...\n",
       "568449      5  Will not do without Great for sesame chicken.....\n",
       "568450      2  disappointed I'm disappointed with the flavor....\n",
       "568451      5  Perfect for our maltipoo These stars are small...\n",
       "568452      5  Favorite Training and reward treat These are t...\n",
       "568453      5  Great Honey I am very satisfied ,product is as...\n",
       "\n",
       "[568454 rows x 2 columns]"
      ]
     },
     "execution_count": 6,
     "metadata": {},
     "output_type": "execute_result"
    }
   ],
   "source": [
    "combined = data['Summary'] + ' ' + data['Text']\n",
    "data = data.drop(['Summary', 'Text'], axis = 1)\n",
    "data['Text'] = combined\n",
    "data"
   ]
  },
  {
   "cell_type": "markdown",
   "id": "8581ab37-3eb3-4d02-a925-9f75a93c9dec",
   "metadata": {},
   "source": [
    "***Turn Score into Pos/Neg/Neu Sentiment***"
   ]
  },
  {
   "cell_type": "code",
   "execution_count": 7,
   "id": "606f0e54-f442-4b1a-975f-410c90dd2c76",
   "metadata": {},
   "outputs": [],
   "source": [
    "def calcSentiment(score):\n",
    "    if score > 3:\n",
    "        return 1\n",
    "    elif score < 3:\n",
    "        return -1\n",
    "    else:\n",
    "        return 0"
   ]
  },
  {
   "cell_type": "code",
   "execution_count": 8,
   "id": "76857eca-7be2-4555-b87a-a697ceab1ad9",
   "metadata": {},
   "outputs": [
    {
     "data": {
      "text/html": [
       "<div>\n",
       "<style scoped>\n",
       "    .dataframe tbody tr th:only-of-type {\n",
       "        vertical-align: middle;\n",
       "    }\n",
       "\n",
       "    .dataframe tbody tr th {\n",
       "        vertical-align: top;\n",
       "    }\n",
       "\n",
       "    .dataframe thead th {\n",
       "        text-align: right;\n",
       "    }\n",
       "</style>\n",
       "<table border=\"1\" class=\"dataframe\">\n",
       "  <thead>\n",
       "    <tr style=\"text-align: right;\">\n",
       "      <th></th>\n",
       "      <th>Text</th>\n",
       "      <th>Sentiment</th>\n",
       "    </tr>\n",
       "  </thead>\n",
       "  <tbody>\n",
       "    <tr>\n",
       "      <th>0</th>\n",
       "      <td>Good Quality Dog Food I have bought several of...</td>\n",
       "      <td>1</td>\n",
       "    </tr>\n",
       "    <tr>\n",
       "      <th>1</th>\n",
       "      <td>Not as Advertised Product arrived labeled as J...</td>\n",
       "      <td>-1</td>\n",
       "    </tr>\n",
       "    <tr>\n",
       "      <th>2</th>\n",
       "      <td>\"Delight\" says it all This is a confection tha...</td>\n",
       "      <td>1</td>\n",
       "    </tr>\n",
       "    <tr>\n",
       "      <th>3</th>\n",
       "      <td>Cough Medicine If you are looking for the secr...</td>\n",
       "      <td>-1</td>\n",
       "    </tr>\n",
       "    <tr>\n",
       "      <th>4</th>\n",
       "      <td>Great taffy Great taffy at a great price.  The...</td>\n",
       "      <td>1</td>\n",
       "    </tr>\n",
       "    <tr>\n",
       "      <th>...</th>\n",
       "      <td>...</td>\n",
       "      <td>...</td>\n",
       "    </tr>\n",
       "    <tr>\n",
       "      <th>568449</th>\n",
       "      <td>Will not do without Great for sesame chicken.....</td>\n",
       "      <td>1</td>\n",
       "    </tr>\n",
       "    <tr>\n",
       "      <th>568450</th>\n",
       "      <td>disappointed I'm disappointed with the flavor....</td>\n",
       "      <td>-1</td>\n",
       "    </tr>\n",
       "    <tr>\n",
       "      <th>568451</th>\n",
       "      <td>Perfect for our maltipoo These stars are small...</td>\n",
       "      <td>1</td>\n",
       "    </tr>\n",
       "    <tr>\n",
       "      <th>568452</th>\n",
       "      <td>Favorite Training and reward treat These are t...</td>\n",
       "      <td>1</td>\n",
       "    </tr>\n",
       "    <tr>\n",
       "      <th>568453</th>\n",
       "      <td>Great Honey I am very satisfied ,product is as...</td>\n",
       "      <td>1</td>\n",
       "    </tr>\n",
       "  </tbody>\n",
       "</table>\n",
       "<p>568454 rows × 2 columns</p>\n",
       "</div>"
      ],
      "text/plain": [
       "                                                     Text  Sentiment\n",
       "0       Good Quality Dog Food I have bought several of...          1\n",
       "1       Not as Advertised Product arrived labeled as J...         -1\n",
       "2       \"Delight\" says it all This is a confection tha...          1\n",
       "3       Cough Medicine If you are looking for the secr...         -1\n",
       "4       Great taffy Great taffy at a great price.  The...          1\n",
       "...                                                   ...        ...\n",
       "568449  Will not do without Great for sesame chicken.....          1\n",
       "568450  disappointed I'm disappointed with the flavor....         -1\n",
       "568451  Perfect for our maltipoo These stars are small...          1\n",
       "568452  Favorite Training and reward treat These are t...          1\n",
       "568453  Great Honey I am very satisfied ,product is as...          1\n",
       "\n",
       "[568454 rows x 2 columns]"
      ]
     },
     "execution_count": 8,
     "metadata": {},
     "output_type": "execute_result"
    }
   ],
   "source": [
    "data['Sentiment'] = data['Score'].apply(lambda x: calcSentiment(x))\n",
    "data = data.drop(['Score'], axis = 1)\n",
    "data"
   ]
  },
  {
   "cell_type": "markdown",
   "id": "99c6702a-8b96-41f0-a05f-3d5a8a45aec4",
   "metadata": {},
   "source": [
    "# **NLP word processing**\n",
    "(These take a while to run, especially stemming)"
   ]
  },
  {
   "cell_type": "code",
   "execution_count": 9,
   "id": "443d6ab9-1a4a-400a-ae09-1fe3911bb109",
   "metadata": {},
   "outputs": [],
   "source": [
    "data['CleanText'] = data['Text'].apply(str) #some reviews are floats for some reason"
   ]
  },
  {
   "cell_type": "code",
   "execution_count": 10,
   "id": "bc20d4bc-1f85-4858-a185-8c2281b1c36a",
   "metadata": {},
   "outputs": [],
   "source": [
    "#make lowercase\n",
    "data['CleanText'] = data['CleanText'].apply(lambda x: x.lower())"
   ]
  },
  {
   "cell_type": "code",
   "execution_count": 11,
   "id": "fc6120bf-3960-4ca1-81ed-1f89c6655827",
   "metadata": {},
   "outputs": [],
   "source": [
    "#remove punctuation\n",
    "data['CleanText'] = data['CleanText'].apply(lambda x: \"\".join([char for char in x if char not in string.punctuation]))"
   ]
  },
  {
   "cell_type": "code",
   "execution_count": 12,
   "id": "9d0636ab-1f0a-4577-a8c4-c9631b9855f7",
   "metadata": {},
   "outputs": [],
   "source": [
    "#tokenization\n",
    "data['CleanText'] = data['CleanText'].apply(lambda x: nltk.word_tokenize(x))"
   ]
  },
  {
   "cell_type": "code",
   "execution_count": 13,
   "id": "14a61fb5-5ab8-4ef2-a54f-338dec7d0c80",
   "metadata": {},
   "outputs": [],
   "source": [
    "#stopword removal\n",
    "stop_words = stopwords.words('english')\n",
    "data['CleanText'] = data['CleanText'].apply(lambda x: [word for word in x if word not in stop_words])"
   ]
  },
  {
   "cell_type": "code",
   "execution_count": 14,
   "id": "67922862-d157-4d82-88a2-1d460013796e",
   "metadata": {},
   "outputs": [],
   "source": [
    "#stemming\n",
    "porter = PorterStemmer()\n",
    "data['CleanText'] = data['CleanText'].apply(lambda x: [porter.stem(word) for word in x])"
   ]
  },
  {
   "cell_type": "code",
   "execution_count": 15,
   "id": "209a2537-e599-4d48-bb27-916dcd23b07f",
   "metadata": {},
   "outputs": [],
   "source": [
    "#turn all reviews into sets, as duplicate words aren't needed\n",
    "data['CleanText'] = data['CleanText'].apply(set)"
   ]
  },
  {
   "cell_type": "code",
   "execution_count": 16,
   "id": "6f40e77b-c29d-42eb-8458-98618c83566b",
   "metadata": {},
   "outputs": [
    {
     "data": {
      "text/html": [
       "<div>\n",
       "<style scoped>\n",
       "    .dataframe tbody tr th:only-of-type {\n",
       "        vertical-align: middle;\n",
       "    }\n",
       "\n",
       "    .dataframe tbody tr th {\n",
       "        vertical-align: top;\n",
       "    }\n",
       "\n",
       "    .dataframe thead th {\n",
       "        text-align: right;\n",
       "    }\n",
       "</style>\n",
       "<table border=\"1\" class=\"dataframe\">\n",
       "  <thead>\n",
       "    <tr style=\"text-align: right;\">\n",
       "      <th></th>\n",
       "      <th>Sentiment</th>\n",
       "      <th>Text</th>\n",
       "    </tr>\n",
       "  </thead>\n",
       "  <tbody>\n",
       "    <tr>\n",
       "      <th>0</th>\n",
       "      <td>1</td>\n",
       "      <td>{food, bought, good, better, like, process, fo...</td>\n",
       "    </tr>\n",
       "    <tr>\n",
       "      <th>1</th>\n",
       "      <td>-1</td>\n",
       "      <td>{advertis, sure, unsalt, peanutsth, peanut, ar...</td>\n",
       "    </tr>\n",
       "    <tr>\n",
       "      <th>2</th>\n",
       "      <td>1</td>\n",
       "      <td>{say, mouth, centuri, yummi, edmund, light, ge...</td>\n",
       "    </tr>\n",
       "    <tr>\n",
       "      <th>3</th>\n",
       "      <td>-1</td>\n",
       "      <td>{order, believ, soda, root, good, made, ingred...</td>\n",
       "    </tr>\n",
       "    <tr>\n",
       "      <th>4</th>\n",
       "      <td>1</td>\n",
       "      <td>{taffi, deal, price, yummi, lover, great, deli...</td>\n",
       "    </tr>\n",
       "    <tr>\n",
       "      <th>...</th>\n",
       "      <td>...</td>\n",
       "      <td>...</td>\n",
       "    </tr>\n",
       "    <tr>\n",
       "      <th>568449</th>\n",
       "      <td>1</td>\n",
       "      <td>{atmi, love, without, recip, find, good, husba...</td>\n",
       "    </tr>\n",
       "    <tr>\n",
       "      <th>568450</th>\n",
       "      <td>-1</td>\n",
       "      <td>{disappoint, buy, ill, especi, still, thank, c...</td>\n",
       "    </tr>\n",
       "    <tr>\n",
       "      <th>568451</th>\n",
       "      <td>1</td>\n",
       "      <td>{sweet, food, preserv, without, potato, like, ...</td>\n",
       "    </tr>\n",
       "    <tr>\n",
       "      <th>568452</th>\n",
       "      <td>1</td>\n",
       "      <td>{sweet, dog, lower, love, nose, good, wet, tra...</td>\n",
       "    </tr>\n",
       "    <tr>\n",
       "      <th>568453</th>\n",
       "      <td>1</td>\n",
       "      <td>{gener, satisfi, advertis, honey, cereal, use,...</td>\n",
       "    </tr>\n",
       "  </tbody>\n",
       "</table>\n",
       "<p>568454 rows × 2 columns</p>\n",
       "</div>"
      ],
      "text/plain": [
       "        Sentiment                                               Text\n",
       "0               1  {food, bought, good, better, like, process, fo...\n",
       "1              -1  {advertis, sure, unsalt, peanutsth, peanut, ar...\n",
       "2               1  {say, mouth, centuri, yummi, edmund, light, ge...\n",
       "3              -1  {order, believ, soda, root, good, made, ingred...\n",
       "4               1  {taffi, deal, price, yummi, lover, great, deli...\n",
       "...           ...                                                ...\n",
       "568449          1  {atmi, love, without, recip, find, good, husba...\n",
       "568450         -1  {disappoint, buy, ill, especi, still, thank, c...\n",
       "568451          1  {sweet, food, preserv, without, potato, like, ...\n",
       "568452          1  {sweet, dog, lower, love, nose, good, wet, tra...\n",
       "568453          1  {gener, satisfi, advertis, honey, cereal, use,...\n",
       "\n",
       "[568454 rows x 2 columns]"
      ]
     },
     "execution_count": 16,
     "metadata": {},
     "output_type": "execute_result"
    }
   ],
   "source": [
    "#replace and clean up\n",
    "data = data.drop(['Text'], axis=1)\n",
    "data['Text'] = data['CleanText']\n",
    "data = data.drop(['CleanText'], axis=1)\n",
    "data"
   ]
  },
  {
   "cell_type": "markdown",
   "id": "6d6ec231-cfef-47d2-8292-871ee81de7a7",
   "metadata": {},
   "source": [
    "***Separate data into positive/negative datasets***"
   ]
  },
  {
   "cell_type": "code",
   "execution_count": 18,
   "id": "e6bed1c0-2e5e-4384-9fa9-2ea7386d82e9",
   "metadata": {},
   "outputs": [],
   "source": [
    "pos = data.loc[data['Sentiment'] == 1]\n",
    "neg = data.loc[data['Sentiment'] == -1]"
   ]
  },
  {
   "cell_type": "code",
   "execution_count": 19,
   "id": "98acd241-6b8c-458e-9df8-183403d5e066",
   "metadata": {},
   "outputs": [
    {
     "data": {
      "text/html": [
       "<div>\n",
       "<style scoped>\n",
       "    .dataframe tbody tr th:only-of-type {\n",
       "        vertical-align: middle;\n",
       "    }\n",
       "\n",
       "    .dataframe tbody tr th {\n",
       "        vertical-align: top;\n",
       "    }\n",
       "\n",
       "    .dataframe thead th {\n",
       "        text-align: right;\n",
       "    }\n",
       "</style>\n",
       "<table border=\"1\" class=\"dataframe\">\n",
       "  <thead>\n",
       "    <tr style=\"text-align: right;\">\n",
       "      <th></th>\n",
       "      <th>Sentiment</th>\n",
       "      <th>Text</th>\n",
       "    </tr>\n",
       "  </thead>\n",
       "  <tbody>\n",
       "    <tr>\n",
       "      <th>0</th>\n",
       "      <td>1</td>\n",
       "      <td>{food, bought, good, better, like, process, fo...</td>\n",
       "    </tr>\n",
       "    <tr>\n",
       "      <th>2</th>\n",
       "      <td>1</td>\n",
       "      <td>{say, mouth, centuri, yummi, edmund, light, ge...</td>\n",
       "    </tr>\n",
       "    <tr>\n",
       "      <th>4</th>\n",
       "      <td>1</td>\n",
       "      <td>{taffi, deal, price, yummi, lover, great, deli...</td>\n",
       "    </tr>\n",
       "    <tr>\n",
       "      <th>5</th>\n",
       "      <td>1</td>\n",
       "      <td>{order, root, enjoy, brand, watermelon, pound,...</td>\n",
       "    </tr>\n",
       "    <tr>\n",
       "      <th>6</th>\n",
       "      <td>1</td>\n",
       "      <td>{stuck, well, brand, good, would, love, saltwa...</td>\n",
       "    </tr>\n",
       "    <tr>\n",
       "      <th>...</th>\n",
       "      <td>...</td>\n",
       "      <td>...</td>\n",
       "    </tr>\n",
       "    <tr>\n",
       "      <th>568448</th>\n",
       "      <td>1</td>\n",
       "      <td>{dont, 1, there, huge, use, larg, good, compla...</td>\n",
       "    </tr>\n",
       "    <tr>\n",
       "      <th>568449</th>\n",
       "      <td>1</td>\n",
       "      <td>{atmi, love, without, recip, find, good, husba...</td>\n",
       "    </tr>\n",
       "    <tr>\n",
       "      <th>568451</th>\n",
       "      <td>1</td>\n",
       "      <td>{sweet, food, preserv, without, potato, like, ...</td>\n",
       "    </tr>\n",
       "    <tr>\n",
       "      <th>568452</th>\n",
       "      <td>1</td>\n",
       "      <td>{sweet, dog, lower, love, nose, good, wet, tra...</td>\n",
       "    </tr>\n",
       "    <tr>\n",
       "      <th>568453</th>\n",
       "      <td>1</td>\n",
       "      <td>{gener, satisfi, advertis, honey, cereal, use,...</td>\n",
       "    </tr>\n",
       "  </tbody>\n",
       "</table>\n",
       "<p>443777 rows × 2 columns</p>\n",
       "</div>"
      ],
      "text/plain": [
       "        Sentiment                                               Text\n",
       "0               1  {food, bought, good, better, like, process, fo...\n",
       "2               1  {say, mouth, centuri, yummi, edmund, light, ge...\n",
       "4               1  {taffi, deal, price, yummi, lover, great, deli...\n",
       "5               1  {order, root, enjoy, brand, watermelon, pound,...\n",
       "6               1  {stuck, well, brand, good, would, love, saltwa...\n",
       "...           ...                                                ...\n",
       "568448          1  {dont, 1, there, huge, use, larg, good, compla...\n",
       "568449          1  {atmi, love, without, recip, find, good, husba...\n",
       "568451          1  {sweet, food, preserv, without, potato, like, ...\n",
       "568452          1  {sweet, dog, lower, love, nose, good, wet, tra...\n",
       "568453          1  {gener, satisfi, advertis, honey, cereal, use,...\n",
       "\n",
       "[443777 rows x 2 columns]"
      ]
     },
     "execution_count": 19,
     "metadata": {},
     "output_type": "execute_result"
    },
    {
     "data": {
      "text/html": [
       "<div>\n",
       "<style scoped>\n",
       "    .dataframe tbody tr th:only-of-type {\n",
       "        vertical-align: middle;\n",
       "    }\n",
       "\n",
       "    .dataframe tbody tr th {\n",
       "        vertical-align: top;\n",
       "    }\n",
       "\n",
       "    .dataframe thead th {\n",
       "        text-align: right;\n",
       "    }\n",
       "</style>\n",
       "<table border=\"1\" class=\"dataframe\">\n",
       "  <thead>\n",
       "    <tr style=\"text-align: right;\">\n",
       "      <th></th>\n",
       "      <th>Sentiment</th>\n",
       "      <th>Text</th>\n",
       "    </tr>\n",
       "  </thead>\n",
       "  <tbody>\n",
       "    <tr>\n",
       "      <th>1</th>\n",
       "      <td>-1</td>\n",
       "      <td>{advertis, sure, unsalt, peanutsth, peanut, ar...</td>\n",
       "    </tr>\n",
       "    <tr>\n",
       "      <th>3</th>\n",
       "      <td>-1</td>\n",
       "      <td>{order, believ, soda, root, good, made, ingred...</td>\n",
       "    </tr>\n",
       "    <tr>\n",
       "      <th>12</th>\n",
       "      <td>-1</td>\n",
       "      <td>{food, cat, two, need, review, fan, bowl, rela...</td>\n",
       "    </tr>\n",
       "    <tr>\n",
       "      <th>16</th>\n",
       "      <td>-1</td>\n",
       "      <td>{sweet, zip, baggi, good, like, tv, transfer, ...</td>\n",
       "    </tr>\n",
       "    <tr>\n",
       "      <th>26</th>\n",
       "      <td>-1</td>\n",
       "      <td>{buy, candi, flavor, nasti, red, would, plan, ...</td>\n",
       "    </tr>\n",
       "    <tr>\n",
       "      <th>...</th>\n",
       "      <td>...</td>\n",
       "      <td>...</td>\n",
       "    </tr>\n",
       "    <tr>\n",
       "      <th>568433</th>\n",
       "      <td>-1</td>\n",
       "      <td>{food, suck, well, complain, healthi, would, p...</td>\n",
       "    </tr>\n",
       "    <tr>\n",
       "      <th>568434</th>\n",
       "      <td>-1</td>\n",
       "      <td>{sweet, pretti, choic, rice, good, like, broth...</td>\n",
       "    </tr>\n",
       "    <tr>\n",
       "      <th>568435</th>\n",
       "      <td>-1</td>\n",
       "      <td>{good, meal, like, broth, howev, 15, tortellin...</td>\n",
       "    </tr>\n",
       "    <tr>\n",
       "      <th>568446</th>\n",
       "      <td>-1</td>\n",
       "      <td>{order, br, like, elsewher, two, back, wrong, ...</td>\n",
       "    </tr>\n",
       "    <tr>\n",
       "      <th>568450</th>\n",
       "      <td>-1</td>\n",
       "      <td>{disappoint, buy, ill, especi, still, thank, c...</td>\n",
       "    </tr>\n",
       "  </tbody>\n",
       "</table>\n",
       "<p>82037 rows × 2 columns</p>\n",
       "</div>"
      ],
      "text/plain": [
       "        Sentiment                                               Text\n",
       "1              -1  {advertis, sure, unsalt, peanutsth, peanut, ar...\n",
       "3              -1  {order, believ, soda, root, good, made, ingred...\n",
       "12             -1  {food, cat, two, need, review, fan, bowl, rela...\n",
       "16             -1  {sweet, zip, baggi, good, like, tv, transfer, ...\n",
       "26             -1  {buy, candi, flavor, nasti, red, would, plan, ...\n",
       "...           ...                                                ...\n",
       "568433         -1  {food, suck, well, complain, healthi, would, p...\n",
       "568434         -1  {sweet, pretti, choic, rice, good, like, broth...\n",
       "568435         -1  {good, meal, like, broth, howev, 15, tortellin...\n",
       "568446         -1  {order, br, like, elsewher, two, back, wrong, ...\n",
       "568450         -1  {disappoint, buy, ill, especi, still, thank, c...\n",
       "\n",
       "[82037 rows x 2 columns]"
      ]
     },
     "execution_count": 19,
     "metadata": {},
     "output_type": "execute_result"
    }
   ],
   "source": [
    "pos\n",
    "neg"
   ]
  },
  {
   "cell_type": "markdown",
   "id": "48383af9-88c8-4954-b501-61fc06f2a56d",
   "metadata": {},
   "source": [
    "# **Naive Bayes**"
   ]
  },
  {
   "cell_type": "code",
   "execution_count": 20,
   "id": "0af0597d-1b26-4c67-a873-cc66fb393b60",
   "metadata": {},
   "outputs": [],
   "source": [
    "def get_probs(word, pos, neg): #gets probabilities of each individual word in positive and negative datasets\n",
    "    pres = sum(pos['Text'].apply(lambda x: word in x))/len(pos)\n",
    "    nres = sum(neg['Text'].apply(lambda x: word in x))/len(neg)\n",
    "    return {\n",
    "        'pos': pres,\n",
    "        'neg': nres\n",
    "    }\n",
    "\n",
    "def get_total_probs(wordset, pos, neg):\n",
    "    posprob = 1\n",
    "    negprob = 1\n",
    "    for word in wordset: #get probabilities of each individual word and multiply all together\n",
    "        prob = get_probs(word, pos, neg)\n",
    "        posprob *= prob['pos']\n",
    "        negprob *= prob['neg']\n",
    "    return {\n",
    "        'pos': posprob,\n",
    "        'neg': negprob,\n",
    "        'pred': 1 if posprob > negprob else -1\n",
    "    }"
   ]
  },
  {
   "cell_type": "code",
   "execution_count": 21,
   "id": "61848adc-a1cc-4f6f-a574-92d46fa6d51b",
   "metadata": {},
   "outputs": [],
   "source": [
    "#grab non-neutral data to use as test data\n",
    "non_neutral = data.loc[abs(data['Sentiment']) == 1]"
   ]
  },
  {
   "cell_type": "code",
   "execution_count": 22,
   "id": "78bd0c4f-15e7-4147-b4c6-6ba78582173e",
   "metadata": {},
   "outputs": [],
   "source": [
    "#sample some data from test set to run tests on\n",
    "num_samples = 100\n",
    "test_set = non_neutral.sample(num_samples)"
   ]
  },
  {
   "cell_type": "code",
   "execution_count": 23,
   "id": "7bd235bf-7f1b-4474-a77c-152ffc40d6a0",
   "metadata": {},
   "outputs": [
    {
     "name": "stdout",
     "output_type": "stream",
     "text": [
      "Prediction 100 of 100 done.\n"
     ]
    }
   ],
   "source": [
    "#test naive bayes algorithm on test set\n",
    "results = []\n",
    "count = 0\n",
    "for index, row in test_set.iterrows():\n",
    "    review = row['Text']\n",
    "    probs = get_total_probs(review, pos, neg)\n",
    "    probs['tru'] = row['Sentiment']\n",
    "    results.append(probs)\n",
    "    count += 1\n",
    "    clear_output(wait=True)\n",
    "    print(f\"Prediction {count} of {num_samples} done.\")"
   ]
  },
  {
   "cell_type": "markdown",
   "id": "4fbfa795-4349-430f-959a-ca2e930bbd02",
   "metadata": {},
   "source": [
    "***Evaluate accuracy of results***"
   ]
  },
  {
   "cell_type": "code",
   "execution_count": 24,
   "id": "644ef7b6-0177-48c2-9457-46a5976d0485",
   "metadata": {},
   "outputs": [
    {
     "data": {
      "text/plain": [
       "0.89"
      ]
     },
     "execution_count": 24,
     "metadata": {},
     "output_type": "execute_result"
    }
   ],
   "source": [
    "correct = 0\n",
    "for attempt in results:\n",
    "    if attempt['tru'] == attempt['pred']:\n",
    "        correct += 1\n",
    "correct/len(results)"
   ]
  },
  {
   "cell_type": "markdown",
   "id": "e601f7bf",
   "metadata": {},
   "source": [
    "## LSTM\n",
    "Adam Goldstein\n",
    "4/26/2022\n",
    "CMPE 256"
   ]
  },
  {
   "cell_type": "code",
   "execution_count": 42,
   "id": "d40cc917",
   "metadata": {},
   "outputs": [],
   "source": [
    "from keras.preprocessing import sequence\n",
    "from keras.preprocessing.text import Tokenizer\n",
    "from keras.models import Sequential\n",
    "from keras.layers import Dense, Embedding, LSTM, Dropout\n",
    "# Import train test split\n",
    "from sklearn.model_selection import train_test_split\n",
    "import matplotlib.pyplot as plt\n",
    "import numpy as np\n",
    "\n",
    "\n"
   ]
  },
  {
   "cell_type": "markdown",
   "id": "e19e8f1c",
   "metadata": {},
   "source": [
    "### Convert Data back to list format"
   ]
  },
  {
   "cell_type": "code",
   "execution_count": 37,
   "id": "aa74f0aa",
   "metadata": {},
   "outputs": [
    {
     "name": "stdout",
     "output_type": "stream",
     "text": [
      "0         {food, bought, good, better, like, process, fo...\n",
      "1         {advertis, sure, unsalt, peanutsth, peanut, ar...\n",
      "2         {say, mouth, centuri, yummi, edmund, light, ge...\n",
      "3         {order, believ, soda, root, good, made, ingred...\n",
      "4         {taffi, deal, price, yummi, lover, great, deli...\n",
      "                                ...                        \n",
      "568449    {atmi, love, without, recip, find, good, husba...\n",
      "568450    {disappoint, buy, ill, especi, still, thank, c...\n",
      "568451    {sweet, food, preserv, without, potato, like, ...\n",
      "568452    {sweet, dog, lower, love, nose, good, wet, tra...\n",
      "568453    {gener, satisfi, advertis, honey, cereal, use,...\n",
      "Name: Text, Length: 568454, dtype: object\n",
      "0         [food, bought, good, better, like, process, fo...\n",
      "1         [advertis, sure, unsalt, peanutsth, peanut, ar...\n",
      "2         [say, mouth, centuri, yummi, edmund, light, ge...\n",
      "3         [order, believ, soda, root, good, made, ingred...\n",
      "4         [taffi, deal, price, yummi, lover, great, deli...\n",
      "                                ...                        \n",
      "568449    [atmi, love, without, recip, find, good, husba...\n",
      "568450    [disappoint, buy, ill, especi, still, thank, c...\n",
      "568451    [sweet, food, preserv, without, potato, like, ...\n",
      "568452    [sweet, dog, lower, love, nose, good, wet, tra...\n",
      "568453    [gener, satisfi, advertis, honey, cereal, use,...\n",
      "Name: Text, Length: 568454, dtype: object\n"
     ]
    }
   ],
   "source": [
    "print((data['Text']))\n",
    "# Convert data['Text'] to a series of lists\n",
    "\n",
    "data['Text'] = data['Text'].apply(lambda x: list(x))\n",
    "\n",
    "\n",
    "print(data['Text'])"
   ]
  },
  {
   "cell_type": "code",
   "execution_count": 43,
   "id": "2f3c9114",
   "metadata": {},
   "outputs": [],
   "source": [
    "# Tokenize the data\n",
    "\n",
    "tokenizer = Tokenizer(num_words=5000)\n",
    "tokenizer.fit_on_texts(data['Text'])"
   ]
  },
  {
   "cell_type": "markdown",
   "id": "5646dac0",
   "metadata": {},
   "source": [
    "## Make train test split"
   ]
  },
  {
   "cell_type": "code",
   "execution_count": 45,
   "id": "9e46ea62",
   "metadata": {},
   "outputs": [],
   "source": [
    "X_train, X_test, y_train, y_test = train_test_split(data['Text'], data['Sentiment'], test_size=0.2)\n"
   ]
  },
  {
   "cell_type": "markdown",
   "id": "83ab67ca",
   "metadata": {},
   "source": [
    "## Tokenize and make sequences with Data"
   ]
  },
  {
   "cell_type": "code",
   "execution_count": 46,
   "id": "547322d7",
   "metadata": {},
   "outputs": [],
   "source": [
    "X_train_tok = tokenizer.texts_to_sequences(X_train)\n",
    "X_test_tok = tokenizer.texts_to_sequences(X_test)\n"
   ]
  },
  {
   "cell_type": "markdown",
   "id": "72b8c9dd",
   "metadata": {},
   "source": [
    "## Pad the Data"
   ]
  },
  {
   "cell_type": "code",
   "execution_count": 47,
   "id": "5e5535cb",
   "metadata": {},
   "outputs": [],
   "source": [
    "\n",
    "max_review_length = 500\n",
    "X_train_pad = sequence.pad_sequences(X_train_tok, maxlen=max_review_length)\n",
    "X_test_pad = sequence.pad_sequences(X_test_tok, maxlen=max_review_length)\n"
   ]
  },
  {
   "cell_type": "markdown",
   "id": "984b8200",
   "metadata": {},
   "source": [
    "## Make the Model"
   ]
  },
  {
   "cell_type": "code",
   "execution_count": 48,
   "id": "61b960c2",
   "metadata": {},
   "outputs": [
    {
     "name": "stdout",
     "output_type": "stream",
     "text": [
      "Model: \"sequential_1\"\n",
      "_________________________________________________________________\n",
      " Layer (type)                Output Shape              Param #   \n",
      "=================================================================\n",
      " embedding_1 (Embedding)     (None, 500, 32)           160000    \n",
      "                                                                 \n",
      " lstm_1 (LSTM)               (None, 100)               53200     \n",
      "                                                                 \n",
      " dropout_1 (Dropout)         (None, 100)               0         \n",
      "                                                                 \n",
      " dense_1 (Dense)             (None, 1)                 101       \n",
      "                                                                 \n",
      "=================================================================\n",
      "Total params: 213,301\n",
      "Trainable params: 213,301\n",
      "Non-trainable params: 0\n",
      "_________________________________________________________________\n",
      "None\n"
     ]
    }
   ],
   "source": [
    "model = Sequential()\n",
    "model.add(Embedding(5000, 32, input_length=max_review_length))\n",
    "model.add(LSTM(100))\n",
    "model.add(Dropout(0.2))\n",
    "model.add(Dense(1, activation='sigmoid'))\n",
    "model.compile(loss='binary_crossentropy', optimizer='adam', metrics=['accuracy'])\n",
    "print(model.summary())\n"
   ]
  },
  {
   "cell_type": "markdown",
   "id": "4529c757",
   "metadata": {},
   "source": [
    "## Train the Model"
   ]
  },
  {
   "cell_type": "code",
   "execution_count": 50,
   "id": "fdea5405",
   "metadata": {},
   "outputs": [
    {
     "name": "stdout",
     "output_type": "stream",
     "text": [
      "Epoch 1/3\n",
      "11370/11370 [==============================] - 1580s 139ms/step - loss: -10.2716 - accuracy: 0.6998 - val_loss: -33.3234 - val_accuracy: 0.7609\n",
      "Epoch 2/3\n",
      "11370/11370 [==============================] - 1535s 135ms/step - loss: -58.4489 - accuracy: 0.7080 - val_loss: -86.7640 - val_accuracy: 0.7584\n",
      "Epoch 3/3\n",
      "11370/11370 [==============================] - 1558s 137ms/step - loss: -120.0564 - accuracy: 0.7092 - val_loss: -152.8033 - val_accuracy: 0.7528\n",
      "Accuracy: 75.17%\n"
     ]
    }
   ],
   "source": [
    "history = model.fit(X_train_pad, y_train, epochs=3, batch_size=32, validation_split=0.2)\n",
    "scores = model.evaluate(X_test_pad, y_test, verbose=0)\n",
    "print(\"Accuracy: %.2f%%\" % (scores[1]*100))"
   ]
  },
  {
   "cell_type": "markdown",
   "id": "01caeac3",
   "metadata": {},
   "source": [
    "## Plot the results\n"
   ]
  },
  {
   "cell_type": "code",
   "execution_count": 54,
   "id": "9cddd7d7",
   "metadata": {},
   "outputs": [
    {
     "name": "stdout",
     "output_type": "stream",
     "text": [
      "dict_keys(['loss', 'accuracy', 'val_loss', 'val_accuracy'])\n"
     ]
    },
    {
     "data": {
      "text/plain": [
       "[<matplotlib.lines.Line2D at 0x7fbbd22c8910>]"
      ]
     },
     "execution_count": 54,
     "metadata": {},
     "output_type": "execute_result"
    },
    {
     "data": {
      "text/plain": [
       "[<matplotlib.lines.Line2D at 0x7fbbf44d5f50>]"
      ]
     },
     "execution_count": 54,
     "metadata": {},
     "output_type": "execute_result"
    },
    {
     "data": {
      "text/plain": [
       "Text(0.5, 1.0, 'Model accuracy')"
      ]
     },
     "execution_count": 54,
     "metadata": {},
     "output_type": "execute_result"
    },
    {
     "data": {
      "text/plain": [
       "Text(0, 0.5, 'Accuracy')"
      ]
     },
     "execution_count": 54,
     "metadata": {},
     "output_type": "execute_result"
    },
    {
     "data": {
      "text/plain": [
       "Text(0.5, 0, 'Epoch')"
      ]
     },
     "execution_count": 54,
     "metadata": {},
     "output_type": "execute_result"
    },
    {
     "data": {
      "text/plain": [
       "<matplotlib.legend.Legend at 0x7fbbd2359a50>"
      ]
     },
     "execution_count": 54,
     "metadata": {},
     "output_type": "execute_result"
    },
    {
     "data": {
      "image/png": "[encoded data removed]",
      "text/plain": [
       "<Figure size 432x288 with 1 Axes>"
      ]
     },
     "metadata": {
      "needs_background": "light"
     },
     "output_type": "display_data"
    }
   ],
   "source": [
    "# Plot training & validation accuracy values\n",
    "print(history.history.keys())\n",
    "plt.plot(history.history['accuracy'])\n",
    "plt.plot(history.history['val_accuracy'])\n",
    "plt.title('Model accuracy')\n",
    "plt.ylabel('Accuracy')\n",
    "plt.xlabel('Epoch')\n",
    "plt.legend(['Train', 'Test'], loc='upper left')"
   ]
  },
  {
   "cell_type": "code",
   "execution_count": 55,
   "id": "9bfa536b",
   "metadata": {},
   "outputs": [
    {
     "data": {
      "text/plain": [
       "[<matplotlib.lines.Line2D at 0x7fbbe1bfd890>]"
      ]
     },
     "execution_count": 55,
     "metadata": {},
     "output_type": "execute_result"
    },
    {
     "data": {
      "text/plain": [
       "[<matplotlib.lines.Line2D at 0x7fbbe1bfae50>]"
      ]
     },
     "execution_count": 55,
     "metadata": {},
     "output_type": "execute_result"
    },
    {
     "data": {
      "text/plain": [
       "Text(0.5, 1.0, 'Model loss')"
      ]
     },
     "execution_count": 55,
     "metadata": {},
     "output_type": "execute_result"
    },
    {
     "data": {
      "text/plain": [
       "Text(0, 0.5, 'Loss')"
      ]
     },
     "execution_count": 55,
     "metadata": {},
     "output_type": "execute_result"
    },
    {
     "data": {
      "text/plain": [
       "Text(0.5, 0, 'Epoch')"
      ]
     },
     "execution_count": 55,
     "metadata": {},
     "output_type": "execute_result"
    },
    {
     "data": {
      "text/plain": [
       "<matplotlib.legend.Legend at 0x7fbbd22302d0>"
      ]
     },
     "execution_count": 55,
     "metadata": {},
     "output_type": "execute_result"
    },
    {
     "data": {
      "image/png": "[encoded data removed]",
      "text/plain": [
       "<Figure size 432x288 with 1 Axes>"
      ]
     },
     "metadata": {
      "needs_background": "light"
     },
     "output_type": "display_data"
    }
   ],
   "source": [
    "# Plot training and validation loss values\n",
    "plt.plot(history.history['loss'])\n",
    "plt.plot(history.history['val_loss'])\n",
    "plt.title('Model loss')\n",
    "plt.ylabel('Loss')\n",
    "plt.xlabel('Epoch')\n",
    "plt.legend(['Train', 'Test'], loc='upper left')"
   ]
  },
  {
   "cell_type": "code",
   "execution_count": null,
   "id": "c88540b1",
   "metadata": {},
   "outputs": [],
   "source": []
  }
 ],
 "metadata": {
  "kernelspec": {
   "display_name": "Python 3",
   "language": "python",
   "name": "python3"
  },
  "language_info": {
   "codemirror_mode": {
    "name": "ipython",
    "version": 3
   },
   "file_extension": ".py",
   "mimetype": "text/x-python",
   "name": "python",
   "nbconvert_exporter": "python",
   "pygments_lexer": "ipython3",
   "version": "3.7.9"
  }
 },
 "nbformat": 4,
 "nbformat_minor": 5
}
