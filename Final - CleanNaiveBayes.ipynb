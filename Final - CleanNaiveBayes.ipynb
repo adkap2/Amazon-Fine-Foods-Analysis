{
 "cells": [
  {
   "cell_type": "markdown",
   "id": "71b91edd-b4ee-4c4d-87cf-56f06f50ab93",
   "metadata": {},
   "source": [
    "***William Su*** <br>\n",
    "CMPE256 - S22<br>\n",
    "Final Project test <br>\n",
    "Amazon food reviews sentiment analysis <br>"
   ]
  },
  {
   "cell_type": "code",
   "execution_count": 20,
   "id": "433efedb-87e2-41d6-a7b7-21ad8191b8c8",
   "metadata": {},
   "outputs": [
    {
     "name": "stderr",
     "output_type": "stream",
     "text": [
      "[nltk_data] Downloading package stopwords to\n",
      "[nltk_data]     /home/wilson289296/nltk_data...\n",
      "[nltk_data]   Package stopwords is already up-to-date!\n"
     ]
    },
    {
     "data": {
      "text/plain": [
       "True"
      ]
     },
     "execution_count": 20,
     "metadata": {},
     "output_type": "execute_result"
    },
    {
     "name": "stderr",
     "output_type": "stream",
     "text": [
      "[nltk_data] Downloading package punkt to\n",
      "[nltk_data]     /home/wilson289296/nltk_data...\n",
      "[nltk_data]   Package punkt is already up-to-date!\n"
     ]
    },
    {
     "data": {
      "text/plain": [
       "True"
      ]
     },
     "execution_count": 20,
     "metadata": {},
     "output_type": "execute_result"
    }
   ],
   "source": [
    "import pandas as pd\n",
    "import numpy as np\n",
    "import nltk\n",
    "from nltk.corpus import stopwords\n",
    "from nltk.stem.porter import PorterStemmer\n",
    "import string\n",
    "nltk.download('stopwords')\n",
    "nltk.download('punkt')\n",
    "from IPython.core.interactiveshell import InteractiveShell\n",
    "InteractiveShell.ast_node_interactivity = \"all\"\n",
    "from IPython.display import clear_output"
   ]
  },
  {
   "cell_type": "markdown",
   "id": "b9546f2f-276b-4913-92eb-aaf472c56ba9",
   "metadata": {},
   "source": [
    "# **Data prep**"
   ]
  },
  {
   "cell_type": "code",
   "execution_count": 2,
   "id": "635d6390-e06a-4133-8599-cbf604e9e096",
   "metadata": {
    "tags": []
   },
   "outputs": [
    {
     "data": {
      "text/html": [
       "<div>\n",
       "<style scoped>\n",
       "    .dataframe tbody tr th:only-of-type {\n",
       "        vertical-align: middle;\n",
       "    }\n",
       "\n",
       "    .dataframe tbody tr th {\n",
       "        vertical-align: top;\n",
       "    }\n",
       "\n",
       "    .dataframe thead th {\n",
       "        text-align: right;\n",
       "    }\n",
       "</style>\n",
       "<table border=\"1\" class=\"dataframe\">\n",
       "  <thead>\n",
       "    <tr style=\"text-align: right;\">\n",
       "      <th></th>\n",
       "      <th>Id</th>\n",
       "      <th>ProductId</th>\n",
       "      <th>UserId</th>\n",
       "      <th>ProfileName</th>\n",
       "      <th>HelpfulnessNumerator</th>\n",
       "      <th>HelpfulnessDenominator</th>\n",
       "      <th>Score</th>\n",
       "      <th>Time</th>\n",
       "      <th>Summary</th>\n",
       "      <th>Text</th>\n",
       "    </tr>\n",
       "  </thead>\n",
       "  <tbody>\n",
       "    <tr>\n",
       "      <th>0</th>\n",
       "      <td>1</td>\n",
       "      <td>B001E4KFG0</td>\n",
       "      <td>A3SGXH7AUHU8GW</td>\n",
       "      <td>delmartian</td>\n",
       "      <td>1</td>\n",
       "      <td>1</td>\n",
       "      <td>5</td>\n",
       "      <td>1303862400</td>\n",
       "      <td>Good Quality Dog Food</td>\n",
       "      <td>I have bought several of the Vitality canned d...</td>\n",
       "    </tr>\n",
       "    <tr>\n",
       "      <th>1</th>\n",
       "      <td>2</td>\n",
       "      <td>B00813GRG4</td>\n",
       "      <td>A1D87F6ZCVE5NK</td>\n",
       "      <td>dll pa</td>\n",
       "      <td>0</td>\n",
       "      <td>0</td>\n",
       "      <td>1</td>\n",
       "      <td>1346976000</td>\n",
       "      <td>Not as Advertised</td>\n",
       "      <td>Product arrived labeled as Jumbo Salted Peanut...</td>\n",
       "    </tr>\n",
       "    <tr>\n",
       "      <th>2</th>\n",
       "      <td>3</td>\n",
       "      <td>B000LQOCH0</td>\n",
       "      <td>ABXLMWJIXXAIN</td>\n",
       "      <td>Natalia Corres \"Natalia Corres\"</td>\n",
       "      <td>1</td>\n",
       "      <td>1</td>\n",
       "      <td>4</td>\n",
       "      <td>1219017600</td>\n",
       "      <td>\"Delight\" says it all</td>\n",
       "      <td>This is a confection that has been around a fe...</td>\n",
       "    </tr>\n",
       "    <tr>\n",
       "      <th>3</th>\n",
       "      <td>4</td>\n",
       "      <td>B000UA0QIQ</td>\n",
       "      <td>A395BORC6FGVXV</td>\n",
       "      <td>Karl</td>\n",
       "      <td>3</td>\n",
       "      <td>3</td>\n",
       "      <td>2</td>\n",
       "      <td>1307923200</td>\n",
       "      <td>Cough Medicine</td>\n",
       "      <td>If you are looking for the secret ingredient i...</td>\n",
       "    </tr>\n",
       "    <tr>\n",
       "      <th>4</th>\n",
       "      <td>5</td>\n",
       "      <td>B006K2ZZ7K</td>\n",
       "      <td>A1UQRSCLF8GW1T</td>\n",
       "      <td>Michael D. Bigham \"M. Wassir\"</td>\n",
       "      <td>0</td>\n",
       "      <td>0</td>\n",
       "      <td>5</td>\n",
       "      <td>1350777600</td>\n",
       "      <td>Great taffy</td>\n",
       "      <td>Great taffy at a great price.  There was a wid...</td>\n",
       "    </tr>\n",
       "  </tbody>\n",
       "</table>\n",
       "</div>"
      ],
      "text/plain": [
       "   Id   ProductId          UserId                      ProfileName  \\\n",
       "0   1  B001E4KFG0  A3SGXH7AUHU8GW                       delmartian   \n",
       "1   2  B00813GRG4  A1D87F6ZCVE5NK                           dll pa   \n",
       "2   3  B000LQOCH0   ABXLMWJIXXAIN  Natalia Corres \"Natalia Corres\"   \n",
       "3   4  B000UA0QIQ  A395BORC6FGVXV                             Karl   \n",
       "4   5  B006K2ZZ7K  A1UQRSCLF8GW1T    Michael D. Bigham \"M. Wassir\"   \n",
       "\n",
       "   HelpfulnessNumerator  HelpfulnessDenominator  Score        Time  \\\n",
       "0                     1                       1      5  1303862400   \n",
       "1                     0                       0      1  1346976000   \n",
       "2                     1                       1      4  1219017600   \n",
       "3                     3                       3      2  1307923200   \n",
       "4                     0                       0      5  1350777600   \n",
       "\n",
       "                 Summary                                               Text  \n",
       "0  Good Quality Dog Food  I have bought several of the Vitality canned d...  \n",
       "1      Not as Advertised  Product arrived labeled as Jumbo Salted Peanut...  \n",
       "2  \"Delight\" says it all  This is a confection that has been around a fe...  \n",
       "3         Cough Medicine  If you are looking for the secret ingredient i...  \n",
       "4            Great taffy  Great taffy at a great price.  There was a wid...  "
      ]
     },
     "execution_count": 2,
     "metadata": {},
     "output_type": "execute_result"
    }
   ],
   "source": [
    "data = pd.read_csv('Reviews.csv')\n",
    "data.head()"
   ]
  },
  {
   "cell_type": "markdown",
   "id": "9a64695b-cc08-4374-93b5-15e6e11701a0",
   "metadata": {},
   "source": [
    "***Drop unneeded columns***"
   ]
  },
  {
   "cell_type": "code",
   "execution_count": 3,
   "id": "626fd9b8-03a0-42af-b45f-5d6d7022af65",
   "metadata": {},
   "outputs": [
    {
     "data": {
      "text/html": [
       "<div>\n",
       "<style scoped>\n",
       "    .dataframe tbody tr th:only-of-type {\n",
       "        vertical-align: middle;\n",
       "    }\n",
       "\n",
       "    .dataframe tbody tr th {\n",
       "        vertical-align: top;\n",
       "    }\n",
       "\n",
       "    .dataframe thead th {\n",
       "        text-align: right;\n",
       "    }\n",
       "</style>\n",
       "<table border=\"1\" class=\"dataframe\">\n",
       "  <thead>\n",
       "    <tr style=\"text-align: right;\">\n",
       "      <th></th>\n",
       "      <th>Score</th>\n",
       "      <th>Summary</th>\n",
       "      <th>Text</th>\n",
       "    </tr>\n",
       "  </thead>\n",
       "  <tbody>\n",
       "    <tr>\n",
       "      <th>0</th>\n",
       "      <td>5</td>\n",
       "      <td>Good Quality Dog Food</td>\n",
       "      <td>I have bought several of the Vitality canned d...</td>\n",
       "    </tr>\n",
       "    <tr>\n",
       "      <th>1</th>\n",
       "      <td>1</td>\n",
       "      <td>Not as Advertised</td>\n",
       "      <td>Product arrived labeled as Jumbo Salted Peanut...</td>\n",
       "    </tr>\n",
       "    <tr>\n",
       "      <th>2</th>\n",
       "      <td>4</td>\n",
       "      <td>\"Delight\" says it all</td>\n",
       "      <td>This is a confection that has been around a fe...</td>\n",
       "    </tr>\n",
       "    <tr>\n",
       "      <th>3</th>\n",
       "      <td>2</td>\n",
       "      <td>Cough Medicine</td>\n",
       "      <td>If you are looking for the secret ingredient i...</td>\n",
       "    </tr>\n",
       "    <tr>\n",
       "      <th>4</th>\n",
       "      <td>5</td>\n",
       "      <td>Great taffy</td>\n",
       "      <td>Great taffy at a great price.  There was a wid...</td>\n",
       "    </tr>\n",
       "  </tbody>\n",
       "</table>\n",
       "</div>"
      ],
      "text/plain": [
       "   Score                Summary  \\\n",
       "0      5  Good Quality Dog Food   \n",
       "1      1      Not as Advertised   \n",
       "2      4  \"Delight\" says it all   \n",
       "3      2         Cough Medicine   \n",
       "4      5            Great taffy   \n",
       "\n",
       "                                                Text  \n",
       "0  I have bought several of the Vitality canned d...  \n",
       "1  Product arrived labeled as Jumbo Salted Peanut...  \n",
       "2  This is a confection that has been around a fe...  \n",
       "3  If you are looking for the secret ingredient i...  \n",
       "4  Great taffy at a great price.  There was a wid...  "
      ]
     },
     "execution_count": 3,
     "metadata": {},
     "output_type": "execute_result"
    }
   ],
   "source": [
    "data = data.loc[:, [col in ['Score', 'Summary', 'Text'] for col in data.columns]]\n",
    "data.head()"
   ]
  },
  {
   "cell_type": "markdown",
   "id": "a26bc315-15ac-4ce9-b3b2-346e5d4a95ee",
   "metadata": {},
   "source": [
    "***Combine Summary and Text features***"
   ]
  },
  {
   "cell_type": "code",
   "execution_count": 4,
   "id": "99f1b5be-506b-4c1b-8a5a-06855b84615d",
   "metadata": {},
   "outputs": [
    {
     "data": {
      "text/html": [
       "<div>\n",
       "<style scoped>\n",
       "    .dataframe tbody tr th:only-of-type {\n",
       "        vertical-align: middle;\n",
       "    }\n",
       "\n",
       "    .dataframe tbody tr th {\n",
       "        vertical-align: top;\n",
       "    }\n",
       "\n",
       "    .dataframe thead th {\n",
       "        text-align: right;\n",
       "    }\n",
       "</style>\n",
       "<table border=\"1\" class=\"dataframe\">\n",
       "  <thead>\n",
       "    <tr style=\"text-align: right;\">\n",
       "      <th></th>\n",
       "      <th>Score</th>\n",
       "      <th>Text</th>\n",
       "    </tr>\n",
       "  </thead>\n",
       "  <tbody>\n",
       "    <tr>\n",
       "      <th>0</th>\n",
       "      <td>5</td>\n",
       "      <td>Good Quality Dog Food I have bought several of...</td>\n",
       "    </tr>\n",
       "    <tr>\n",
       "      <th>1</th>\n",
       "      <td>1</td>\n",
       "      <td>Not as Advertised Product arrived labeled as J...</td>\n",
       "    </tr>\n",
       "    <tr>\n",
       "      <th>2</th>\n",
       "      <td>4</td>\n",
       "      <td>\"Delight\" says it all This is a confection tha...</td>\n",
       "    </tr>\n",
       "    <tr>\n",
       "      <th>3</th>\n",
       "      <td>2</td>\n",
       "      <td>Cough Medicine If you are looking for the secr...</td>\n",
       "    </tr>\n",
       "    <tr>\n",
       "      <th>4</th>\n",
       "      <td>5</td>\n",
       "      <td>Great taffy Great taffy at a great price.  The...</td>\n",
       "    </tr>\n",
       "    <tr>\n",
       "      <th>...</th>\n",
       "      <td>...</td>\n",
       "      <td>...</td>\n",
       "    </tr>\n",
       "    <tr>\n",
       "      <th>568449</th>\n",
       "      <td>5</td>\n",
       "      <td>Will not do without Great for sesame chicken.....</td>\n",
       "    </tr>\n",
       "    <tr>\n",
       "      <th>568450</th>\n",
       "      <td>2</td>\n",
       "      <td>disappointed I'm disappointed with the flavor....</td>\n",
       "    </tr>\n",
       "    <tr>\n",
       "      <th>568451</th>\n",
       "      <td>5</td>\n",
       "      <td>Perfect for our maltipoo These stars are small...</td>\n",
       "    </tr>\n",
       "    <tr>\n",
       "      <th>568452</th>\n",
       "      <td>5</td>\n",
       "      <td>Favorite Training and reward treat These are t...</td>\n",
       "    </tr>\n",
       "    <tr>\n",
       "      <th>568453</th>\n",
       "      <td>5</td>\n",
       "      <td>Great Honey I am very satisfied ,product is as...</td>\n",
       "    </tr>\n",
       "  </tbody>\n",
       "</table>\n",
       "<p>568454 rows × 2 columns</p>\n",
       "</div>"
      ],
      "text/plain": [
       "        Score                                               Text\n",
       "0           5  Good Quality Dog Food I have bought several of...\n",
       "1           1  Not as Advertised Product arrived labeled as J...\n",
       "2           4  \"Delight\" says it all This is a confection tha...\n",
       "3           2  Cough Medicine If you are looking for the secr...\n",
       "4           5  Great taffy Great taffy at a great price.  The...\n",
       "...       ...                                                ...\n",
       "568449      5  Will not do without Great for sesame chicken.....\n",
       "568450      2  disappointed I'm disappointed with the flavor....\n",
       "568451      5  Perfect for our maltipoo These stars are small...\n",
       "568452      5  Favorite Training and reward treat These are t...\n",
       "568453      5  Great Honey I am very satisfied ,product is as...\n",
       "\n",
       "[568454 rows x 2 columns]"
      ]
     },
     "execution_count": 4,
     "metadata": {},
     "output_type": "execute_result"
    }
   ],
   "source": [
    "combined = data['Summary'] + ' ' + data['Text']\n",
    "data = data.drop(['Summary', 'Text'], axis = 1)\n",
    "data['Text'] = combined\n",
    "data"
   ]
  },
  {
   "cell_type": "markdown",
   "id": "8581ab37-3eb3-4d02-a925-9f75a93c9dec",
   "metadata": {},
   "source": [
    "***Turn Score into Pos/Neg/Neu Sentiment***"
   ]
  },
  {
   "cell_type": "code",
   "execution_count": 5,
   "id": "606f0e54-f442-4b1a-975f-410c90dd2c76",
   "metadata": {},
   "outputs": [],
   "source": [
    "def calcSentiment(score):\n",
    "    if score > 3:\n",
    "        return 1\n",
    "    elif score < 3:\n",
    "        return -1\n",
    "    else:\n",
    "        return 0"
   ]
  },
  {
   "cell_type": "code",
   "execution_count": 6,
   "id": "76857eca-7be2-4555-b87a-a697ceab1ad9",
   "metadata": {},
   "outputs": [
    {
     "data": {
      "text/html": [
       "<div>\n",
       "<style scoped>\n",
       "    .dataframe tbody tr th:only-of-type {\n",
       "        vertical-align: middle;\n",
       "    }\n",
       "\n",
       "    .dataframe tbody tr th {\n",
       "        vertical-align: top;\n",
       "    }\n",
       "\n",
       "    .dataframe thead th {\n",
       "        text-align: right;\n",
       "    }\n",
       "</style>\n",
       "<table border=\"1\" class=\"dataframe\">\n",
       "  <thead>\n",
       "    <tr style=\"text-align: right;\">\n",
       "      <th></th>\n",
       "      <th>Text</th>\n",
       "      <th>Sentiment</th>\n",
       "    </tr>\n",
       "  </thead>\n",
       "  <tbody>\n",
       "    <tr>\n",
       "      <th>0</th>\n",
       "      <td>Good Quality Dog Food I have bought several of...</td>\n",
       "      <td>1</td>\n",
       "    </tr>\n",
       "    <tr>\n",
       "      <th>1</th>\n",
       "      <td>Not as Advertised Product arrived labeled as J...</td>\n",
       "      <td>-1</td>\n",
       "    </tr>\n",
       "    <tr>\n",
       "      <th>2</th>\n",
       "      <td>\"Delight\" says it all This is a confection tha...</td>\n",
       "      <td>1</td>\n",
       "    </tr>\n",
       "    <tr>\n",
       "      <th>3</th>\n",
       "      <td>Cough Medicine If you are looking for the secr...</td>\n",
       "      <td>-1</td>\n",
       "    </tr>\n",
       "    <tr>\n",
       "      <th>4</th>\n",
       "      <td>Great taffy Great taffy at a great price.  The...</td>\n",
       "      <td>1</td>\n",
       "    </tr>\n",
       "    <tr>\n",
       "      <th>...</th>\n",
       "      <td>...</td>\n",
       "      <td>...</td>\n",
       "    </tr>\n",
       "    <tr>\n",
       "      <th>568449</th>\n",
       "      <td>Will not do without Great for sesame chicken.....</td>\n",
       "      <td>1</td>\n",
       "    </tr>\n",
       "    <tr>\n",
       "      <th>568450</th>\n",
       "      <td>disappointed I'm disappointed with the flavor....</td>\n",
       "      <td>-1</td>\n",
       "    </tr>\n",
       "    <tr>\n",
       "      <th>568451</th>\n",
       "      <td>Perfect for our maltipoo These stars are small...</td>\n",
       "      <td>1</td>\n",
       "    </tr>\n",
       "    <tr>\n",
       "      <th>568452</th>\n",
       "      <td>Favorite Training and reward treat These are t...</td>\n",
       "      <td>1</td>\n",
       "    </tr>\n",
       "    <tr>\n",
       "      <th>568453</th>\n",
       "      <td>Great Honey I am very satisfied ,product is as...</td>\n",
       "      <td>1</td>\n",
       "    </tr>\n",
       "  </tbody>\n",
       "</table>\n",
       "<p>568454 rows × 2 columns</p>\n",
       "</div>"
      ],
      "text/plain": [
       "                                                     Text  Sentiment\n",
       "0       Good Quality Dog Food I have bought several of...          1\n",
       "1       Not as Advertised Product arrived labeled as J...         -1\n",
       "2       \"Delight\" says it all This is a confection tha...          1\n",
       "3       Cough Medicine If you are looking for the secr...         -1\n",
       "4       Great taffy Great taffy at a great price.  The...          1\n",
       "...                                                   ...        ...\n",
       "568449  Will not do without Great for sesame chicken.....          1\n",
       "568450  disappointed I'm disappointed with the flavor....         -1\n",
       "568451  Perfect for our maltipoo These stars are small...          1\n",
       "568452  Favorite Training and reward treat These are t...          1\n",
       "568453  Great Honey I am very satisfied ,product is as...          1\n",
       "\n",
       "[568454 rows x 2 columns]"
      ]
     },
     "execution_count": 6,
     "metadata": {},
     "output_type": "execute_result"
    }
   ],
   "source": [
    "data['Sentiment'] = data['Score'].apply(lambda x: calcSentiment(x))\n",
    "data = data.drop(['Score'], axis = 1)\n",
    "data"
   ]
  },
  {
   "cell_type": "markdown",
   "id": "99c6702a-8b96-41f0-a05f-3d5a8a45aec4",
   "metadata": {},
   "source": [
    "# **NLP word processing**\n",
    "(These take a while to run, especially stemming)"
   ]
  },
  {
   "cell_type": "code",
   "execution_count": 7,
   "id": "443d6ab9-1a4a-400a-ae09-1fe3911bb109",
   "metadata": {},
   "outputs": [],
   "source": [
    "data['CleanText'] = data['Text'].apply(str) #some reviews are floats for some reason"
   ]
  },
  {
   "cell_type": "code",
   "execution_count": 8,
   "id": "bc20d4bc-1f85-4858-a185-8c2281b1c36a",
   "metadata": {},
   "outputs": [],
   "source": [
    "#make lowercase\n",
    "data['CleanText'] = data['CleanText'].apply(lambda x: x.lower())"
   ]
  },
  {
   "cell_type": "code",
   "execution_count": 9,
   "id": "fc6120bf-3960-4ca1-81ed-1f89c6655827",
   "metadata": {},
   "outputs": [],
   "source": [
    "#remove punctuation\n",
    "data['CleanText'] = data['CleanText'].apply(lambda x: \"\".join([char for char in x if char not in string.punctuation]))"
   ]
  },
  {
   "cell_type": "code",
   "execution_count": 10,
   "id": "9d0636ab-1f0a-4577-a8c4-c9631b9855f7",
   "metadata": {},
   "outputs": [],
   "source": [
    "#tokenization\n",
    "data['CleanText'] = data['CleanText'].apply(lambda x: nltk.word_tokenize(x))"
   ]
  },
  {
   "cell_type": "code",
   "execution_count": 11,
   "id": "14a61fb5-5ab8-4ef2-a54f-338dec7d0c80",
   "metadata": {},
   "outputs": [],
   "source": [
    "#stopword removal\n",
    "stop_words = stopwords.words('english')\n",
    "data['CleanText'] = data['CleanText'].apply(lambda x: [word for word in x if word not in stop_words])"
   ]
  },
  {
   "cell_type": "code",
   "execution_count": 12,
   "id": "67922862-d157-4d82-88a2-1d460013796e",
   "metadata": {},
   "outputs": [],
   "source": [
    "#stemming\n",
    "porter = PorterStemmer()\n",
    "data['CleanText'] = data['CleanText'].apply(lambda x: [porter.stem(word) for word in x])"
   ]
  },
  {
   "cell_type": "code",
   "execution_count": 13,
   "id": "209a2537-e599-4d48-bb27-916dcd23b07f",
   "metadata": {},
   "outputs": [],
   "source": [
    "#turn all reviews into sets, as duplicate words aren't needed\n",
    "data['CleanText'] = data['CleanText'].apply(set)"
   ]
  },
  {
   "cell_type": "code",
   "execution_count": 14,
   "id": "6f40e77b-c29d-42eb-8458-98618c83566b",
   "metadata": {},
   "outputs": [
    {
     "data": {
      "text/html": [
       "<div>\n",
       "<style scoped>\n",
       "    .dataframe tbody tr th:only-of-type {\n",
       "        vertical-align: middle;\n",
       "    }\n",
       "\n",
       "    .dataframe tbody tr th {\n",
       "        vertical-align: top;\n",
       "    }\n",
       "\n",
       "    .dataframe thead th {\n",
       "        text-align: right;\n",
       "    }\n",
       "</style>\n",
       "<table border=\"1\" class=\"dataframe\">\n",
       "  <thead>\n",
       "    <tr style=\"text-align: right;\">\n",
       "      <th></th>\n",
       "      <th>Sentiment</th>\n",
       "      <th>Text</th>\n",
       "    </tr>\n",
       "  </thead>\n",
       "  <tbody>\n",
       "    <tr>\n",
       "      <th>0</th>\n",
       "      <td>1</td>\n",
       "      <td>{better, found, qualiti, like, meat, smell, vi...</td>\n",
       "    </tr>\n",
       "    <tr>\n",
       "      <th>1</th>\n",
       "      <td>-1</td>\n",
       "      <td>{actual, repres, product, error, peanutsth, ar...</td>\n",
       "    </tr>\n",
       "    <tr>\n",
       "      <th>2</th>\n",
       "      <td>1</td>\n",
       "      <td>{tini, filbert, lion, case, around, delight, c...</td>\n",
       "    </tr>\n",
       "    <tr>\n",
       "      <th>3</th>\n",
       "      <td>-1</td>\n",
       "      <td>{extract, secret, cough, made, robitussin, sod...</td>\n",
       "    </tr>\n",
       "    <tr>\n",
       "      <th>4</th>\n",
       "      <td>1</td>\n",
       "      <td>{lover, great, quick, deliveri, deal, wide, pr...</td>\n",
       "    </tr>\n",
       "    <tr>\n",
       "      <th>...</th>\n",
       "      <td>...</td>\n",
       "      <td>...</td>\n",
       "    </tr>\n",
       "    <tr>\n",
       "      <th>568449</th>\n",
       "      <td>1</td>\n",
       "      <td>{great, itwil, good, recip, without, better, e...</td>\n",
       "    </tr>\n",
       "    <tr>\n",
       "      <th>568450</th>\n",
       "      <td>-1</td>\n",
       "      <td>{worth, note, small, time, especi, use, thicke...</td>\n",
       "    </tr>\n",
       "    <tr>\n",
       "      <th>568451</th>\n",
       "      <td>1</td>\n",
       "      <td>{star, train, made, make, like, small, littl, ...</td>\n",
       "    </tr>\n",
       "    <tr>\n",
       "      <th>568452</th>\n",
       "      <td>1</td>\n",
       "      <td>{dog, groom, seem, reward, good, calori, doggi...</td>\n",
       "    </tr>\n",
       "    <tr>\n",
       "      <th>568453</th>\n",
       "      <td>1</td>\n",
       "      <td>{great, product, gener, advertis, satisfi, use...</td>\n",
       "    </tr>\n",
       "  </tbody>\n",
       "</table>\n",
       "<p>568454 rows × 2 columns</p>\n",
       "</div>"
      ],
      "text/plain": [
       "        Sentiment                                               Text\n",
       "0               1  {better, found, qualiti, like, meat, smell, vi...\n",
       "1              -1  {actual, repres, product, error, peanutsth, ar...\n",
       "2               1  {tini, filbert, lion, case, around, delight, c...\n",
       "3              -1  {extract, secret, cough, made, robitussin, sod...\n",
       "4               1  {lover, great, quick, deliveri, deal, wide, pr...\n",
       "...           ...                                                ...\n",
       "568449          1  {great, itwil, good, recip, without, better, e...\n",
       "568450         -1  {worth, note, small, time, especi, use, thicke...\n",
       "568451          1  {star, train, made, make, like, small, littl, ...\n",
       "568452          1  {dog, groom, seem, reward, good, calori, doggi...\n",
       "568453          1  {great, product, gener, advertis, satisfi, use...\n",
       "\n",
       "[568454 rows x 2 columns]"
      ]
     },
     "execution_count": 14,
     "metadata": {},
     "output_type": "execute_result"
    }
   ],
   "source": [
    "#replace and clean up\n",
    "data = data.drop(['Text'], axis=1)\n",
    "data['Text'] = data['CleanText']\n",
    "data = data.drop(['CleanText'], axis=1)\n",
    "data"
   ]
  },
  {
   "cell_type": "markdown",
   "id": "6d6ec231-cfef-47d2-8292-871ee81de7a7",
   "metadata": {},
   "source": [
    "***Separate data into positive/negative datasets***"
   ]
  },
  {
   "cell_type": "code",
   "execution_count": 15,
   "id": "e6bed1c0-2e5e-4384-9fa9-2ea7386d82e9",
   "metadata": {},
   "outputs": [],
   "source": [
    "pos = data.loc[data['Sentiment'] == 1]\n",
    "neg = data.loc[data['Sentiment'] == -1]"
   ]
  },
  {
   "cell_type": "code",
   "execution_count": 16,
   "id": "98acd241-6b8c-458e-9df8-183403d5e066",
   "metadata": {},
   "outputs": [
    {
     "data": {
      "text/html": [
       "<div>\n",
       "<style scoped>\n",
       "    .dataframe tbody tr th:only-of-type {\n",
       "        vertical-align: middle;\n",
       "    }\n",
       "\n",
       "    .dataframe tbody tr th {\n",
       "        vertical-align: top;\n",
       "    }\n",
       "\n",
       "    .dataframe thead th {\n",
       "        text-align: right;\n",
       "    }\n",
       "</style>\n",
       "<table border=\"1\" class=\"dataframe\">\n",
       "  <thead>\n",
       "    <tr style=\"text-align: right;\">\n",
       "      <th></th>\n",
       "      <th>Sentiment</th>\n",
       "      <th>Text</th>\n",
       "    </tr>\n",
       "  </thead>\n",
       "  <tbody>\n",
       "    <tr>\n",
       "      <th>0</th>\n",
       "      <td>1</td>\n",
       "      <td>{better, found, qualiti, like, meat, smell, vi...</td>\n",
       "    </tr>\n",
       "    <tr>\n",
       "      <th>2</th>\n",
       "      <td>1</td>\n",
       "      <td>{tini, filbert, lion, case, around, delight, c...</td>\n",
       "    </tr>\n",
       "    <tr>\n",
       "      <th>4</th>\n",
       "      <td>1</td>\n",
       "      <td>{lover, great, quick, deliveri, deal, wide, pr...</td>\n",
       "    </tr>\n",
       "    <tr>\n",
       "      <th>5</th>\n",
       "      <td>1</td>\n",
       "      <td>{mani, melon, enjoy, husband, favorit, five, o...</td>\n",
       "    </tr>\n",
       "    <tr>\n",
       "      <th>6</th>\n",
       "      <td>1</td>\n",
       "      <td>{well, great, fraling, happen, beachthem, love...</td>\n",
       "    </tr>\n",
       "    <tr>\n",
       "      <th>...</th>\n",
       "      <td>...</td>\n",
       "      <td>...</td>\n",
       "    </tr>\n",
       "    <tr>\n",
       "      <th>568448</th>\n",
       "      <td>1</td>\n",
       "      <td>{dont, 5, ground, amount, good, spice, there, ...</td>\n",
       "    </tr>\n",
       "    <tr>\n",
       "      <th>568449</th>\n",
       "      <td>1</td>\n",
       "      <td>{great, itwil, good, recip, without, better, e...</td>\n",
       "    </tr>\n",
       "    <tr>\n",
       "      <th>568451</th>\n",
       "      <td>1</td>\n",
       "      <td>{star, train, made, make, like, small, littl, ...</td>\n",
       "    </tr>\n",
       "    <tr>\n",
       "      <th>568452</th>\n",
       "      <td>1</td>\n",
       "      <td>{dog, groom, seem, reward, good, calori, doggi...</td>\n",
       "    </tr>\n",
       "    <tr>\n",
       "      <th>568453</th>\n",
       "      <td>1</td>\n",
       "      <td>{great, product, gener, advertis, satisfi, use...</td>\n",
       "    </tr>\n",
       "  </tbody>\n",
       "</table>\n",
       "<p>443777 rows × 2 columns</p>\n",
       "</div>"
      ],
      "text/plain": [
       "        Sentiment                                               Text\n",
       "0               1  {better, found, qualiti, like, meat, smell, vi...\n",
       "2               1  {tini, filbert, lion, case, around, delight, c...\n",
       "4               1  {lover, great, quick, deliveri, deal, wide, pr...\n",
       "5               1  {mani, melon, enjoy, husband, favorit, five, o...\n",
       "6               1  {well, great, fraling, happen, beachthem, love...\n",
       "...           ...                                                ...\n",
       "568448          1  {dont, 5, ground, amount, good, spice, there, ...\n",
       "568449          1  {great, itwil, good, recip, without, better, e...\n",
       "568451          1  {star, train, made, make, like, small, littl, ...\n",
       "568452          1  {dog, groom, seem, reward, good, calori, doggi...\n",
       "568453          1  {great, product, gener, advertis, satisfi, use...\n",
       "\n",
       "[443777 rows x 2 columns]"
      ]
     },
     "execution_count": 16,
     "metadata": {},
     "output_type": "execute_result"
    },
    {
     "data": {
      "text/html": [
       "<div>\n",
       "<style scoped>\n",
       "    .dataframe tbody tr th:only-of-type {\n",
       "        vertical-align: middle;\n",
       "    }\n",
       "\n",
       "    .dataframe tbody tr th {\n",
       "        vertical-align: top;\n",
       "    }\n",
       "\n",
       "    .dataframe thead th {\n",
       "        text-align: right;\n",
       "    }\n",
       "</style>\n",
       "<table border=\"1\" class=\"dataframe\">\n",
       "  <thead>\n",
       "    <tr style=\"text-align: right;\">\n",
       "      <th></th>\n",
       "      <th>Sentiment</th>\n",
       "      <th>Text</th>\n",
       "    </tr>\n",
       "  </thead>\n",
       "  <tbody>\n",
       "    <tr>\n",
       "      <th>1</th>\n",
       "      <td>-1</td>\n",
       "      <td>{actual, repres, product, error, peanutsth, ar...</td>\n",
       "    </tr>\n",
       "    <tr>\n",
       "      <th>3</th>\n",
       "      <td>-1</td>\n",
       "      <td>{extract, secret, cough, made, robitussin, sod...</td>\n",
       "    </tr>\n",
       "    <tr>\n",
       "      <th>12</th>\n",
       "      <td>-1</td>\n",
       "      <td>{put, bowl, sit, need, similar, touch, relat, ...</td>\n",
       "    </tr>\n",
       "    <tr>\n",
       "      <th>16</th>\n",
       "      <td>-1</td>\n",
       "      <td>{tv, love, lock, stay, like, time, fresh, movi...</td>\n",
       "    </tr>\n",
       "    <tr>\n",
       "      <th>26</th>\n",
       "      <td>-1</td>\n",
       "      <td>{flavor, plan, chewi, red, would, buy, candi, ...</td>\n",
       "    </tr>\n",
       "    <tr>\n",
       "      <th>...</th>\n",
       "      <td>...</td>\n",
       "      <td>...</td>\n",
       "    </tr>\n",
       "    <tr>\n",
       "      <th>568433</th>\n",
       "      <td>-1</td>\n",
       "      <td>{put, aftertast, fail, close, noth, like, spoo...</td>\n",
       "    </tr>\n",
       "    <tr>\n",
       "      <th>568434</th>\n",
       "      <td>-1</td>\n",
       "      <td>{bean, bad, ive, kick, find, noth, like, rice,...</td>\n",
       "    </tr>\n",
       "    <tr>\n",
       "      <th>568435</th>\n",
       "      <td>-1</td>\n",
       "      <td>{low, bowl, coupl, 3, like, realli, tortellini...</td>\n",
       "    </tr>\n",
       "    <tr>\n",
       "      <th>568446</th>\n",
       "      <td>-1</td>\n",
       "      <td>{great, back, badbr, anis, wrong, sent, order,...</td>\n",
       "    </tr>\n",
       "    <tr>\n",
       "      <th>568450</th>\n",
       "      <td>-1</td>\n",
       "      <td>{worth, note, small, time, especi, use, thicke...</td>\n",
       "    </tr>\n",
       "  </tbody>\n",
       "</table>\n",
       "<p>82037 rows × 2 columns</p>\n",
       "</div>"
      ],
      "text/plain": [
       "        Sentiment                                               Text\n",
       "1              -1  {actual, repres, product, error, peanutsth, ar...\n",
       "3              -1  {extract, secret, cough, made, robitussin, sod...\n",
       "12             -1  {put, bowl, sit, need, similar, touch, relat, ...\n",
       "16             -1  {tv, love, lock, stay, like, time, fresh, movi...\n",
       "26             -1  {flavor, plan, chewi, red, would, buy, candi, ...\n",
       "...           ...                                                ...\n",
       "568433         -1  {put, aftertast, fail, close, noth, like, spoo...\n",
       "568434         -1  {bean, bad, ive, kick, find, noth, like, rice,...\n",
       "568435         -1  {low, bowl, coupl, 3, like, realli, tortellini...\n",
       "568446         -1  {great, back, badbr, anis, wrong, sent, order,...\n",
       "568450         -1  {worth, note, small, time, especi, use, thicke...\n",
       "\n",
       "[82037 rows x 2 columns]"
      ]
     },
     "execution_count": 16,
     "metadata": {},
     "output_type": "execute_result"
    }
   ],
   "source": [
    "pos\n",
    "neg"
   ]
  },
  {
   "cell_type": "markdown",
   "id": "48383af9-88c8-4954-b501-61fc06f2a56d",
   "metadata": {},
   "source": [
    "# **Naive Bayes**"
   ]
  },
  {
   "cell_type": "code",
   "execution_count": 23,
   "id": "0af0597d-1b26-4c67-a873-cc66fb393b60",
   "metadata": {},
   "outputs": [],
   "source": [
    "def get_probs(word, pos, neg): #gets probabilities of each individual word in positive and negative datasets\n",
    "    pres = sum(pos['Text'].apply(lambda x: word in x))/len(pos)\n",
    "    nres = sum(neg['Text'].apply(lambda x: word in x))/len(neg)\n",
    "    return {\n",
    "        'pos': pres,\n",
    "        'neg': nres\n",
    "    }\n",
    "\n",
    "def get_total_probs(wordset, pos, neg):\n",
    "    posprob = 1\n",
    "    negprob = 1\n",
    "    for word in wordset: #get probabilities of each individual word and multiply all together\n",
    "        prob = get_probs(word, pos, neg)\n",
    "        posprob *= prob['pos']\n",
    "        negprob *= prob['neg']\n",
    "    return {\n",
    "        'pos': posprob,\n",
    "        'neg': negprob,\n",
    "        'pred': 1 if posprob > negprob else -1\n",
    "    }"
   ]
  },
  {
   "cell_type": "code",
   "execution_count": 18,
   "id": "61848adc-a1cc-4f6f-a574-92d46fa6d51b",
   "metadata": {},
   "outputs": [],
   "source": [
    "#grab non-neutral data to use as test data\n",
    "non_neutral = data.loc[abs(data['Sentiment']) == 1]"
   ]
  },
  {
   "cell_type": "code",
   "execution_count": 25,
   "id": "78bd0c4f-15e7-4147-b4c6-6ba78582173e",
   "metadata": {},
   "outputs": [],
   "source": [
    "#sample some data from test set to run tests on\n",
    "num_samples = 100\n",
    "test_set = non_neutral.sample(num_samples)"
   ]
  },
  {
   "cell_type": "code",
   "execution_count": 26,
   "id": "7bd235bf-7f1b-4474-a77c-152ffc40d6a0",
   "metadata": {},
   "outputs": [
    {
     "name": "stdout",
     "output_type": "stream",
     "text": [
      "Prediction 100 of 100 done.\n"
     ]
    }
   ],
   "source": [
    "#test naive bayes algorithm on test set\n",
    "results = []\n",
    "count = 0\n",
    "for index, row in test_set.iterrows():\n",
    "    review = row['Text']\n",
    "    probs = get_total_probs(review, pos, neg)\n",
    "    probs['tru'] = row['Sentiment']\n",
    "    results.append(probs)\n",
    "    count += 1\n",
    "    clear_output(wait=True)\n",
    "    print(f\"Prediction {count} of {num_samples} done.\")"
   ]
  },
  {
   "cell_type": "markdown",
   "id": "4fbfa795-4349-430f-959a-ca2e930bbd02",
   "metadata": {},
   "source": [
    "***Evaluate accuracy of results***"
   ]
  },
  {
   "cell_type": "code",
   "execution_count": 27,
   "id": "644ef7b6-0177-48c2-9457-46a5976d0485",
   "metadata": {},
   "outputs": [
    {
     "data": {
      "text/plain": [
       "0.88"
      ]
     },
     "execution_count": 27,
     "metadata": {},
     "output_type": "execute_result"
    }
   ],
   "source": [
    "correct = 0\n",
    "for attempt in results:\n",
    "    if attempt['tru'] == attempt['pred']:\n",
    "        correct += 1\n",
    "correct/len(results)"
   ]
  }
 ],
 "metadata": {
  "kernelspec": {
   "display_name": "Python 3",
   "language": "python",
   "name": "python3"
  },
  "language_info": {
   "codemirror_mode": {
    "name": "ipython",
    "version": 3
   },
   "file_extension": ".py",
   "mimetype": "text/x-python",
   "name": "python",
   "nbconvert_exporter": "python",
   "pygments_lexer": "ipython3",
   "version": "3.8.8"
  }
 },
 "nbformat": 4,
 "nbformat_minor": 5
}
