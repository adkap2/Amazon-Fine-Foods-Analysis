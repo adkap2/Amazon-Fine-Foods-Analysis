{
 "cells": [
  {
   "cell_type": "code",
   "execution_count": 1,
   "metadata": {},
   "outputs": [
    {
     "name": "stdout",
     "output_type": "stream",
     "text": [
      "shape of X_train_tfidf is (254921, 10000)\n",
      "shape of X_test_tfidf is (109252, 10000)\n"
     ]
    }
   ],
   "source": [
    "import warnings\n",
    "warnings.filterwarnings(\"ignore\")\n",
    "\n",
    "\n",
    "import pickle\n",
    "#loading tfidf vectors\n",
    "def identity_tokenizer(text):\n",
    "    return text\n",
    "\n",
    "X_train_tfidf = pickle.load(open(\"X_train_tfidf\",\"rb\"))\n",
    "X_test_tfidf = pickle.load(open(\"X_test_tfidf\",\"rb\"))\n",
    "tfidf_features = pickle.load(open(\"tfidf_features\",\"rb\")).tolist()\n",
    "y_train=pickle.load(open('Label_train','rb'))\n",
    "y_test=pickle.load(open('Label_test','rb'))\n",
    "\n",
    "print('shape of X_train_tfidf is {}'.format(X_train_tfidf.shape))\n",
    "print('shape of X_test_tfidf is {}'.format(X_test_tfidf.shape))"
   ]
  },
  {
   "cell_type": "code",
   "execution_count": 2,
   "metadata": {},
   "outputs": [],
   "source": [
    "# modol: Naive Bayes, SGDClassifier, Logreg, Random Forest\n",
    "import numpy as np\n",
    "import pandas as pd\n",
    "import seaborn as sns\n",
    "from sklearn.naive_bayes import MultinomialNB\n",
    "from sklearn.linear_model import LogisticRegression\n",
    "from sklearn.svm import SVC\n",
    "from sklearn.pipeline import Pipeline\n",
    "from sklearn.linear_model import SGDClassifier\n",
    "from sklearn.ensemble import RandomForestClassifier\n",
    "\n",
    "from sklearn.model_selection import GridSearchCV  \n",
    "from sklearn import svm\n",
    "from sklearn.metrics import make_scorer, roc_auc_score,roc_curve, auc, confusion_matrix\n",
    "import matplotlib.pyplot as plt\n"
   ]
  },
  {
   "cell_type": "code",
   "execution_count": 3,
   "metadata": {},
   "outputs": [
    {
     "name": "stdout",
     "output_type": "stream",
     "text": [
      "MultinomialNB(alpha=1) 0.94626393256916\n"
     ]
    }
   ],
   "source": [
    "#Naive Bayes\n",
    "parameters = {'alpha':[0.0001,0.001,0.01,0.1,1,10,100]}\n",
    "nb = MultinomialNB()\n",
    "scoring = {\"AUC\": \"roc_auc\"}\n",
    "clf_gs = GridSearchCV(estimator=nb, param_grid=parameters, scoring= scoring, refit=\"AUC\", cv=5,n_jobs=-1)\n",
    "clf_gs.fit(X_train_tfidf, y_train)\n",
    "print(clf_gs.best_estimator_,clf_gs.best_score_)\n",
    "\n",
    "\n"
   ]
  },
  {
   "cell_type": "code",
   "execution_count": 13,
   "metadata": {},
   "outputs": [
    {
     "name": "stdout",
     "output_type": "stream",
     "text": [
      "SGDClassifier(alpha=0.01) 0.954192604566092\n"
     ]
    }
   ],
   "source": [
    "from sklearn.linear_model import SGDClassifier\n",
    "parameters = {'loss':['hinge', 'log'], 'max_iter':[1000, 2000], 'alpha': [0.01, 0.1, 1, 10,100]}\n",
    "sgd = SGDClassifier()\n",
    "scoring = {\"AUC\": \"roc_auc\"}\n",
    "clf_gs = GridSearchCV(estimator=sgd, param_grid=parameters, scoring= scoring, refit=\"AUC\", cv=5,n_jobs=-1)\n",
    "clf_gs.fit(X_train_tfidf, y_train)\n",
    "print(clf_gs.best_estimator_,clf_gs.best_score_)"
   ]
  },
  {
   "cell_type": "code",
   "execution_count": 5,
   "metadata": {},
   "outputs": [
    {
     "name": "stdout",
     "output_type": "stream",
     "text": [
      "LogisticRegression(C=1) 0.9674400157780434\n"
     ]
    }
   ],
   "source": [
    "# Logistic Regression\n",
    "parameters = {'C': [0.01, 0.1, 1, 10,100]}\n",
    "lr = LogisticRegression()\n",
    "scoring = {\"AUC\": \"roc_auc\"}\n",
    "clf_gs = GridSearchCV(estimator=lr, param_grid=parameters, scoring= scoring, refit=\"AUC\", cv=5,n_jobs=-1)\n",
    "clf_gs.fit(X_train_tfidf, y_train)\n",
    "print(clf_gs.best_estimator_,clf_gs.best_score_)"
   ]
  },
  {
   "cell_type": "code",
   "execution_count": 7,
   "metadata": {},
   "outputs": [
    {
     "name": "stdout",
     "output_type": "stream",
     "text": [
      "RandomForestClassifier(max_depth=40, n_estimators=40) 0.9337434815082604\n"
     ]
    }
   ],
   "source": [
    "# random forest\n",
    "parameters = {'max_depth':[20, 30, 40], 'n_estimators':[20, 30, 40] }\n",
    "sgd = RandomForestClassifier()\n",
    "scoring = {\"AUC\": \"roc_auc\"}\n",
    "clf_gs = GridSearchCV(estimator=sgd, param_grid=parameters, scoring= scoring, refit=\"AUC\", cv=5,n_jobs=-1)\n",
    "clf_gs.fit(X_train_tfidf, y_train)\n",
    "print(clf_gs.best_estimator_,clf_gs.best_score_)"
   ]
  },
  {
   "cell_type": "code",
   "execution_count": 8,
   "metadata": {},
   "outputs": [],
   "source": [
    "#XGBoost"
   ]
  }
 ],
 "metadata": {
  "interpreter": {
   "hash": "949777d72b0d2535278d3dc13498b2535136f6dfe0678499012e853ee9abcab1"
  },
  "kernelspec": {
   "display_name": "Python 3 (ipykernel)",
   "language": "python",
   "name": "python3"
  },
  "language_info": {
   "codemirror_mode": {
    "name": "ipython",
    "version": 3
   },
   "file_extension": ".py",
   "mimetype": "text/x-python",
   "name": "python",
   "nbconvert_exporter": "python",
   "pygments_lexer": "ipython3",
   "version": "3.8.13"
  }
 },
 "nbformat": 4,
 "nbformat_minor": 2
}
