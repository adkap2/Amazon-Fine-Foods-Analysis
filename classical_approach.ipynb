{
 "cells": [
  {
   "cell_type": "code",
   "execution_count": 1,
   "metadata": {},
   "outputs": [
    {
     "name": "stdout",
     "output_type": "stream",
     "text": [
      "shape of X_train_tfidf is (254921, 10000)\n",
      "shape of X_test_tfidf is (109252, 10000)\n"
     ]
    }
   ],
   "source": [
    "import warnings\n",
    "warnings.filterwarnings(\"ignore\")\n",
    "\n",
    "\n",
    "import pickle\n",
    "#loading tfidf vectors\n",
    "def identity_tokenizer(text):\n",
    "    return text\n",
    "\n",
    "X_train_tfidf = pickle.load(open(\"X_train_tfidf\",\"rb\"))\n",
    "X_test_tfidf = pickle.load(open(\"X_test_tfidf\",\"rb\"))\n",
    "tfidf_features = pickle.load(open(\"tfidf_features\",\"rb\")).tolist()\n",
    "y_train=pickle.load(open('Label_train','rb'))\n",
    "y_test=pickle.load(open('Label_test','rb'))\n",
    "\n",
    "print('shape of X_train_tfidf is {}'.format(X_train_tfidf.shape))\n",
    "print('shape of X_test_tfidf is {}'.format(X_test_tfidf.shape))"
   ]
  },
  {
   "cell_type": "code",
   "execution_count": 2,
   "metadata": {},
   "outputs": [],
   "source": [
    "# modol: Naive Bayes, SGDClassifier, Logreg, Random Forest\n",
    "import numpy as np\n",
    "import pandas as pd\n",
    "import seaborn as sns\n",
    "from sklearn.naive_bayes import MultinomialNB\n",
    "from sklearn.linear_model import LogisticRegression\n",
    "from sklearn.svm import SVC\n",
    "from sklearn.pipeline import Pipeline\n",
    "from sklearn.linear_model import SGDClassifier\n",
    "from sklearn.ensemble import RandomForestClassifier\n",
    "\n",
    "from sklearn.model_selection import GridSearchCV  \n",
    "from sklearn import svm\n",
    "from sklearn.metrics import accuracy_score, roc_auc_score,precision_score,recall_score, f1_score\n",
    "import matplotlib.pyplot as plt\n"
   ]
  },
  {
   "cell_type": "code",
   "execution_count": 3,
   "metadata": {},
   "outputs": [
    {
     "name": "stdout",
     "output_type": "stream",
     "text": [
      "MultinomialNB(alpha=1) 0.9464270416387608\n"
     ]
    }
   ],
   "source": [
    "#Naive Bayes\n",
    "parameters = {'alpha':[0.0001,0.001,0.01,0.1,1,10,100]}\n",
    "nb = MultinomialNB()\n",
    "scoring = {'AUC': 'roc_auc'}\n",
    "clf_gs = GridSearchCV(estimator=nb, param_grid=parameters, scoring= scoring, refit=\"AUC\", cv=5,n_jobs=-1)\n",
    "clf_gs.fit(X_train_tfidf, y_train)\n",
    "print(clf_gs.best_estimator_,clf_gs.best_score_)\n",
    "\n",
    "\n"
   ]
  },
  {
   "cell_type": "code",
   "execution_count": 4,
   "metadata": {
    "scrolled": true
   },
   "outputs": [
    {
     "name": "stdout",
     "output_type": "stream",
     "text": [
      "AUC: 0.94677911694273\n",
      "accuracy:0.8873430234686779\n",
      "precision:0.8852886369999904\n",
      "recall:0.9953646913231798\n",
      "f1:0.9371052470208288\n"
     ]
    }
   ],
   "source": [
    "# Train model with fine tuned model\n",
    "nb = MultinomialNB(alpha=1)\n",
    "nb.fit(X_train_tfidf, y_train)\n",
    "print(f'AUC: {roc_auc_score(y_test, nb.predict_proba(X_test_tfidf)[:, 1])}')\n",
    "print(f'accuracy:{accuracy_score(y_test, nb.predict(X_test_tfidf))}')\n",
    "print(f'precision:{precision_score(y_test, nb.predict(X_test_tfidf))}')\n",
    "print(f'recall:{recall_score(y_test, nb.predict(X_test_tfidf))}')\n",
    "print(f'f1:{f1_score(y_test, nb.predict(X_test_tfidf))}')"
   ]
  },
  {
   "cell_type": "code",
   "execution_count": 7,
   "metadata": {},
   "outputs": [
    {
     "name": "stdout",
     "output_type": "stream",
     "text": [
      "LogisticRegression(C=1, solver='saga') 0.9675173653699636\n"
     ]
    }
   ],
   "source": [
    "# Logistic Regression: tune parameter\n",
    "parameters = {'C': [0.01, 0.1, 1, 10,100], 'solver': ['saga']}\n",
    "lr = LogisticRegression()\n",
    "scoring = {'AUC': 'roc_auc'}\n",
    "clf_gs = GridSearchCV(estimator=lr, param_grid=parameters, scoring= scoring, refit=\"AUC\", cv=5,n_jobs=-1)\n",
    "clf_gs.fit(X_train_tfidf, y_train)\n",
    "print(clf_gs.best_estimator_,clf_gs.best_score_)"
   ]
  },
  {
   "cell_type": "code",
   "execution_count": 8,
   "metadata": {},
   "outputs": [
    {
     "name": "stdout",
     "output_type": "stream",
     "text": [
      "AUC: 0.9674566399201652\n",
      "accuracy:0.9381063962215794\n",
      "precision:0.8852886369999904\n",
      "recall:0.9953646913231798\n",
      "f1:0.9371052470208288\n"
     ]
    }
   ],
   "source": [
    "# Train model with fine tuned model\n",
    "lr = LogisticRegression(C=1, solver='saga')\n",
    "lr.fit(X_train_tfidf, y_train)\n",
    "print(f'AUC: {roc_auc_score(y_test, lr.predict_proba(X_test_tfidf)[:, 1])}')\n",
    "print(f'accuracy:{accuracy_score(y_test, lr.predict(X_test_tfidf))}')\n",
    "print(f'precision:{precision_score(y_test, nb.predict(X_test_tfidf))}')\n",
    "print(f'recall:{recall_score(y_test, nb.predict(X_test_tfidf))}')\n",
    "print(f'f1:{f1_score(y_test, nb.predict(X_test_tfidf))}')"
   ]
  },
  {
   "cell_type": "code",
   "execution_count": 9,
   "metadata": {},
   "outputs": [
    {
     "name": "stdout",
     "output_type": "stream",
     "text": [
      "RandomForestClassifier(max_depth=40, n_estimators=60) 0.9366105540183263\n"
     ]
    }
   ],
   "source": [
    "# random forest:tune parameter\n",
    "parameters = {'max_depth':[20, 30, 40], 'n_estimators':[40, 50, 60] }\n",
    "rf = RandomForestClassifier()\n",
    "scoring = {'AUC': 'roc_auc'}\n",
    "clf_gs = GridSearchCV(estimator=rf, param_grid=parameters, scoring= scoring, refit=\"AUC\", cv=5,n_jobs=-1)\n",
    "clf_gs.fit(X_train_tfidf, y_train)\n",
    "print(clf_gs.best_estimator_,clf_gs.best_score_)"
   ]
  },
  {
   "cell_type": "code",
   "execution_count": 10,
   "metadata": {},
   "outputs": [
    {
     "name": "stdout",
     "output_type": "stream",
     "text": [
      "AUC: 0.9364024830892141\n",
      "accuracy:0.8679566506791637\n",
      "precision:0.8852886369999904\n",
      "recall:0.9953646913231798\n",
      "f1:0.9371052470208288\n"
     ]
    }
   ],
   "source": [
    "# Train model with fine tuned model\n",
    "rf = RandomForestClassifier(max_depth=40, n_estimators=60)\n",
    "rf.fit(X_train_tfidf, y_train)\n",
    "print(f'AUC: {roc_auc_score(y_test, rf.predict_proba(X_test_tfidf)[:, 1])}')\n",
    "print(f'accuracy:{accuracy_score(y_test, rf.predict(X_test_tfidf))}')\n",
    "print(f'precision:{precision_score(y_test, nb.predict(X_test_tfidf))}')\n",
    "print(f'recall:{recall_score(y_test, nb.predict(X_test_tfidf))}')\n",
    "print(f'f1:{f1_score(y_test, nb.predict(X_test_tfidf))}')"
   ]
  },
  {
   "cell_type": "code",
   "execution_count": 11,
   "metadata": {},
   "outputs": [
    {
     "name": "stdout",
     "output_type": "stream",
     "text": [
      "AdaBoostClassifier(learning_rate=1, n_estimators=60) 0.9141082593427198\n"
     ]
    }
   ],
   "source": [
    "#Adaboosting: tune parameter\n",
    "from sklearn.ensemble import AdaBoostClassifier\n",
    "parameters = {'learning_rate':[0.01, 0.1, 1, 10], 'n_estimators':[40, 50, 60] }\n",
    "adaboost = AdaBoostClassifier()\n",
    "scoring = {'AUC': 'roc_auc'}\n",
    "clf_gs = GridSearchCV(estimator=adaboost, param_grid=parameters, scoring= scoring, refit=\"AUC\", cv=5,n_jobs=-1)\n",
    "clf_gs.fit(X_train_tfidf, y_train)\n",
    "print(clf_gs.best_estimator_,clf_gs.best_score_)"
   ]
  },
  {
   "cell_type": "code",
   "execution_count": 12,
   "metadata": {},
   "outputs": [
    {
     "name": "stdout",
     "output_type": "stream",
     "text": [
      "AUC: 0.912844826739418\n",
      "accuracy:0.8963680298758833\n",
      "precision:0.8852886369999904\n",
      "recall:0.9953646913231798\n",
      "f1:0.9371052470208288\n"
     ]
    }
   ],
   "source": [
    "# Train model with fine tuned model\n",
    "adaboost = AdaBoostClassifier(learning_rate=1, n_estimators=60)\n",
    "adaboost.fit(X_train_tfidf, y_train)\n",
    "print(f'AUC: {roc_auc_score(y_test, adaboost.predict_proba(X_test_tfidf)[:, 1])}')\n",
    "print(f'accuracy:{accuracy_score(y_test, adaboost.predict(X_test_tfidf))}')\n",
    "print(f'precision:{precision_score(y_test, nb.predict(X_test_tfidf))}')\n",
    "print(f'recall:{recall_score(y_test, nb.predict(X_test_tfidf))}')\n",
    "print(f'f1:{f1_score(y_test, nb.predict(X_test_tfidf))}')"
   ]
  },
  {
   "cell_type": "code",
   "execution_count": null,
   "metadata": {},
   "outputs": [],
   "source": []
  }
 ],
 "metadata": {
  "interpreter": {
   "hash": "949777d72b0d2535278d3dc13498b2535136f6dfe0678499012e853ee9abcab1"
  },
  "kernelspec": {
   "display_name": "Python 3 (ipykernel)",
   "language": "python",
   "name": "python3"
  },
  "language_info": {
   "codemirror_mode": {
    "name": "ipython",
    "version": 3
   },
   "file_extension": ".py",
   "mimetype": "text/x-python",
   "name": "python",
   "nbconvert_exporter": "python",
   "pygments_lexer": "ipython3",
   "version": "3.8.13"
  }
 },
 "nbformat": 4,
 "nbformat_minor": 2
}
